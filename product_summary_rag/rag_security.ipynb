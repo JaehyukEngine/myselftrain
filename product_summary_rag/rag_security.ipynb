{
 "cells": [
  {
   "cell_type": "markdown",
   "metadata": {},
   "source": [
    " requirements.txt \n",
    " ```\n",
    " streamlit\n",
    " langchain\n",
    " langchain-community\n",
    " pymupdf\n",
    " spacyC\n",
    " spacy\n",
    " konlpy\n",
    " chromadb\n",
    " openai\n",
    " tiktoken\n",
    " langchain_openai\n",
    " ```"
   ]
  },
  {
   "cell_type": "code",
   "execution_count": 3,
   "metadata": {},
   "outputs": [],
   "source": [
    "from langchain.embeddings import OpenAIEmbeddings  #← OpenAIEmbeddings를 가져오기\n",
    "from numpy import dot  #← 벡터의 유사도를 계산하기 위해 dot을 가져오기\n",
    "from numpy.linalg import norm  #← 벡터의 유사도를 계산하기 위해 norm을 가져오기\n",
    "from langchain.document_loaders import PyMuPDFLoader"
   ]
  },
  {
   "cell_type": "code",
   "execution_count": 5,
   "metadata": {},
   "outputs": [],
   "source": [
    "loader = PyMuPDFLoader(\"./hanwha_apt_security_product.pdf\")\n",
    "documents = loader.load()"
   ]
  },
  {
   "cell_type": "code",
   "execution_count": 3,
   "metadata": {},
   "outputs": [
    {
     "data": {
      "text/plain": [
       "[Document(metadata={'source': './hanwha_apt_security_product.pdf', 'file_path': './hanwha_apt_security_product.pdf', 'page': 0, 'total_pages': 6, 'format': 'PDF 1.5', 'title': '', 'author': '', 'subject': '', 'keywords': '', 'creator': '', 'producer': 'doPDF Ver 7.3 Build 391 (unknown Windows version - Version: 10.0.19042 (x64))', 'creationDate': \"D:20220111131059+09'00'\", 'modDate': '', 'trapped': ''}, page_content='확인필제\\n전사\\n-\\n2022-100016-\\n(2022.01.10~2023.01.09)\\n- 1 -\\n무배당 한화 \\n아파트가정종합보험\\n상품요약서\\n무배당 한화 \\n아파트가정종합보험\\n상품요약서\\n무배당 한화 \\n아파트가정종합보험\\n상품요약서\\n무배당 한화 \\n아파트가정종합보험\\n상품요약서\\n무배당 한화 \\n아파트가정종합보험\\n상품요약서\\n무배당 한화 \\n아파트가정종합보험\\n상품요약서\\n3700 \\n2101 \\n3700 \\n2101 \\n3700 \\n2101 \\n3700 \\n2101 \\n3700 \\n2101 \\n3700 \\n2101 \\n무배당 한화 \\n아파트가정종합보험\\n상품요약서\\n3700 \\n2101 \\n  Q & A\\n【\\n】\\n  Q & A\\n【\\n】\\n주택물건 중 특수건물은 어떤 건물인가요\\nQ. \\n?\\n주택물건 중 특수건물은 \\n층 이상의 아파트 및 부속건물을 말합니다\\n16\\n.\\n▶ \\n보험가액 산정은 어떻게 하나요\\nQ. \\n?\\n가평가대상 건물과 똑같은 구조규모용도의 건물을 짓는데 필요한 가액에서 경과기간에 따른 감가상각분을 공제하여 \\n. \\n, \\n, \\n현재가액을 산출합니다.\\n나건물에 대한 감정평가서가 있을 때에는 평가액을 가액으로 합니다\\n. \\n.\\n임시거주비화재실손\\n일이상주택보장의 보장내용 및 기간은 어떻게 되나요\\nQ. \\n(\\n,\\n,4\\n,\\n) \\n?\\n가보험목적이 약관에서 정한 손해를 입었을 경우 사고마다 손해발생 후 일째부터 일당 \\n만원을 한도로 피보험자\\n. \\n1\\n4\\n1\\n10\\n가 본인 및 본인과 생계를 같이하고 보험목적의 주민등록상 동거중인 가족을 위해 복구기간 내 임시거주기간\\n동안 \\n“\\n” \\n숙박시설 또는 음식점에서 실제로 지출한 숙박비 및 식대를 임시거주비로 지급합니다.\\n나복구기간이 추정복구기간 또는 약정복구기간을 초과하는 경우 복구기간 내 임시거주기간은 추정복구기간과 약정복\\n. \\n“\\n”\\n구기간 내 임시거주기간 중 짧은 기간으로 하며\\n면책기간손해가 발생한 때부터 최초 일까지\\n동안 발생한 임시거\\n, \\n(\\n3\\n) \\n주비에 대하여는 보상하지 않습니다.\\n보험금 지급 예시\\n[\\n]\\n \\n \\n약정복구기간 \\n일\\n90\\n면책기간\\n일\\n(3\\n)\\n복구기간 내 임시거주기간에 대해\\n“\\n”\\n임시거주비를 \\n일 한도로 지급 \\n87\\n사고 발생\\n용어의 정의\\n[\\n]\\n면책기간 \\n회사가 손해를 보상하지 않는 기간으로보험목적이 손해를 입었던 때부터 최초 일입니다\\n1. \\n: \\n, \\n3\\n.\\n약정복구기간 \\n회사와 피보험자가 약정한 최대복구기간으로보험목적이 손해를 입었던 때로부터 \\n일간을 말합니다\\n2. \\n: \\n, \\n90\\n.\\n추정복구기간 \\n보험목적을 손해발생 직전의 상태로 복구하기 위하여 통상적으로 필요하다고 인정되는 기간을 말합니다\\n3. \\n: \\n.\\n복구기간 \\n보험금 지급대상이 되는 기간으로 보험목적이 손해를 입은 때로부터 지체없이 이를 복구할 때까지 필요한 기간을 \\n4. \\n: \\n말합니다또한 법령의 규제 등 부득이한 사유로 인하여 보험목적을 복구하지 않을 경우에는 추정복구기간을 \\n. \\n복구기간으로 인정합니다그러나 어떠한 경우에도 복구기간은 추정복구기간이나 약정복구기간을 초과할 수 없으며\\n. \\n, \\n복구기간에 대한 판단은 회사의 동의를 받아야 합니다.\\n건물복구비용지원화재주택특별약관의 보장내용은 어떻게 되나요\\nQ. \\n(\\n,\\n) \\n?\\n보험목적이 약관에서 정한 화재손해를 입어 해당 보험목적을 수리 또는 복구하였을 때\\n손해가 생긴 때와 곳에서의 \\n, \\n▶ \\n보험목적의 재조달가액주1)과 보험가액주2)에 따라 각각 계산한 손해액의 차이이하 재조달차액이라 합니다를 보상합\\n(\\n“\\n”\\n)\\n니다.\\n주\\n보험목적과 동형\\n동질의 신품을 재조달하는데 소요되는 금액을 말합니다\\n1) \\n·\\n.\\n주\\n재조달가액에서 기간 경과에 따른 감가상각을 반영한 시가로 계산된 금액을 말합니다\\n2) \\n.\\n보험가액재조달가액 및 재조달차액\\n[\\n, \\n]\\n가\\n(\\n)\\n물가상승 등으로 \\n재조달가액 변동\\n신축시점의 가액\\n사고시점의\\n재조달가액\\n가\\n재조달가액으로 계산한 손해액\\n(\\n) : \\n  \\n감가상각으로\\n보험가액 변동\\n나\\n(\\n)\\n신축시점의 가액\\n사고시점의\\n보험가액\\n나\\n보험가액으로 계산한 손해액\\n(\\n) : \\n이 특별약관에서 보상하는 손해 \\n재조달차액\\n가\\n나\\n: “\\n” = (\\n) - (\\n)\\n'),\n",
       " Document(metadata={'source': './hanwha_apt_security_product.pdf', 'file_path': './hanwha_apt_security_product.pdf', 'page': 1, 'total_pages': 6, 'format': 'PDF 1.5', 'title': '', 'author': '', 'subject': '', 'keywords': '', 'creator': '', 'producer': 'doPDF Ver 7.3 Build 391 (unknown Windows version - Version: 10.0.19042 (x64))', 'creationDate': \"D:20220111131059+09'00'\", 'modDate': '', 'trapped': ''}, page_content='확인필제\\n전사\\n-\\n2022-100016-\\n(2022.01.10~2023.01.09)\\n- 2 -\\n가가입자격제한 등 상품별 특이사항\\n. \\n가\\n가입자격제한\\n-1. \\n이 상품은 주택 소유자 또는 주택 임차자를 위한 보험입니다\\n단\\n신계약 체결 시 아파트 주택물건에 한하여 가입할 \\n- \\n. \\n, \\n수 있습니다.\\n이 상품은 보험목적의 주변환경위험정도물건의 급수 및 기타사항으로 인해 보험가입금액이 제한되거나 인수가 불가\\n- \\n, \\n, \\n능할 수 있습니다.\\n가\\n상품의 특이사항\\n-2. \\n보험기간보험료 납입기간가입나이 및 보험료 납입주기에 관한 사항\\n1) \\n, \\n, \\n보험기간보험료 납입기간가입나이보험료 납입주기\\n- \\n, \\n, \\n, \\n구     분\\n보험기간\\n납입기간\\n가입나이\\n납입주기\\n보통\\n약관\\n화재벌금실손\\n(\\n),\\n대가전제품고장수리비용실손\\n12\\n(\\n),\\n화재손해실손전부보상\\n(\\n),\\n임시거주비화재실손일이상주택\\n(\\n,\\n,4\\n,\\n)\\n년\\n5\\n전기납\\n만\\n세\\n세\\n19\\n~80\\n월납\\n년\\n10\\n전기납\\n특별\\n약관\\n화재배상책임\\n,\\nⅡ\\n특수건물신체손해배상책임(1710),\\n특수건물화재대물배상책임(1710),\\n건물복구비용지원화재주택\\n(\\n,\\n)\\n년\\n5\\n전기납\\n만\\n세\\n세\\n19\\n~80\\n월납\\n년\\n10\\n전기납\\n회사가 정하는 기준에 따라 직무영위업종 및 보험목적의 상태 등에 의해 보험가입 금액이 제한되거나 가입이 불\\n, \\n※ \\n가능할 수 있습니다.\\n가입제한에 관한 사항\\n2) \\n특수건물신체손해배상책임\\n특별약관과 특수건물화재대물배상책임\\n특별약관은 동시에 가입하여야 합니\\n- \\n(1710) \\n(1710) \\n다.\\n하나의 보험목적에 대해 특수건물신체손해배상책임\\n특별약관 및 특수건물화재대물배상책임\\n특별약관은 \\n- \\n(1710) \\n(1710) \\n화재배상책임\\n특별약관과 동시에 가입할 수 없습니다.\\nⅡ \\n특수건물신체손해배상책임\\n특별약관과 특수건물화재대물배상책임\\n특별약관은 특수건물에 한하여 가입\\n- \\n(1710) \\n(1710) \\n할 수 있습니다.\\n만기환급금에 관한 사항\\n3) \\n회사는 보험기간이 끝난 때에 적립부분 순보험료에 대하여 보험료 납입일회사에 입금된 날을 말합니다부터 보장\\n- \\n*\\n(\\n)\\n성보험 공시이율\\n로 보험료 및 책임준비금 산출방법서에 따라 계산한 금액을 만기환급금으로 보험수익자에게 지\\nⅤ\\n「\\n」\\n급합니다다만이 약관에서 정한 대출금이 있을 때에는 그 대출원금과 이자의 합계액을 빼고 지급합니다\\n. \\n, \\n.\\n적립부분 순보험료는 적립보험료에서 적립부분에 해당하는 부가보험료를 제외한 보험료를 말합니다\\n  * \\n.\\n'),\n",
       " Document(metadata={'source': './hanwha_apt_security_product.pdf', 'file_path': './hanwha_apt_security_product.pdf', 'page': 2, 'total_pages': 6, 'format': 'PDF 1.5', 'title': '', 'author': '', 'subject': '', 'keywords': '', 'creator': '', 'producer': 'doPDF Ver 7.3 Build 391 (unknown Windows version - Version: 10.0.19042 (x64))', 'creationDate': \"D:20220111131059+09'00'\", 'modDate': '', 'trapped': ''}, page_content='확인필제\\n전사\\n-\\n2022-100016-\\n(2022.01.10~2023.01.09)\\n- 3 -\\n나보험금 지급사유지급금액 및 지급제한사항\\n. \\n, \\n나\\n보험금 지급사유 및 지급금액\\n-1. \\n구  분\\n지급사유\\n지급액\\n보통\\n약관\\n화재손해실손전부보상\\n(\\n)\\n화재폭발파열 포함로 인해 건물 및 가재의 손해 및 소방\\n피난 손해가 발생한 경우\\n(\\n, \\n)\\n·\\n보험가입금액 한도 실손보상\\n잔존물 제거비용\\n화재로 잔존물 제거비용 발생 시 손해액의 \\n한도 보상\\n10% \\n잔존물 제거비용\\n잔존물의 해체비용청소비용상차비용차에 싣는 비용\\n단화재손해보험금과 합산\\n: \\n, \\n, \\n(\\n) (\\n, \\n※ \\n하여 보험가입금액을 초과할 수 없음)\\n대가전제품고장수리비용실손\\n12\\n(\\n)\\n보험기간 중에 피보험자가 거주하는 주택 구내에 있는 \\n대가전제품에 고장이 발생하여 이를 수리하여 \\n12\\n생긴 실제 수리비 계약체결일부터 \\n일 이내에 수리하여 수리비가 발생한 손해 제외\\n(\\n60\\n)\\n대가전제품 \\n세탁기냉장고김치냉장고에어컨전자레인지공기청정기청소기식기세척\\n12\\n: TV, \\n, \\n, \\n, \\n, \\n, \\n, \\n, \\n※ \\n기의류건조기의류관리기제습기\\n, \\n, \\n, \\n해당 가전이 수리 불가 등으로 실제 수리비가 발생하지 않은 경우에는 보상하지 않음\\n※ \\n수리란 해당 제품의 공식적인 국내 \\n지정점에서 실제 수리하여 수리비를 지급한 경우를 말함\\n“\\n”\\nAS\\n※ \\n연간 보험가입금액\\n만원한도 실손보상\\n(100\\n) \\n자기부담금\\n만원\\n(\\n:2\\n)\\n화재벌금\\n대한민국 내에서 벌금형의 원인이 되는 화재가 발생하고 형법 제\\n조실화혹은 동법 제\\n조업무상\\n170\\n(\\n) \\n171\\n(\\n실화중실화에 따른 벌금형이 확정된 경우\\n, \\n)\\n한도 내 실손보상\\n형법 제\\n조에 의한 벌금\\n만원 한도\\n170\\n: 1,500\\n형법 제\\n조에 의한 벌금\\n만원 한도\\n171\\n: 2,000\\n임시거주비화재실손일이상주택\\n(\\n,\\n,4\\n,\\n)\\n보험목적에 화재벼락폭발파열 포함로 직접손해소방손해피난손해가 발생하여 보험목적 내에 거주\\n(\\n, \\n, \\n)\\n, \\n, \\n할 수 없게 된 경우 피보험자 본인 및 본인과 생계를 같이하고 보험목적의 주민등록상 동거중인 가족을 \\n위해 보험목적의 약관에서 정한 복구기간 내 임시거주기간\\n동안 숙박시설 또는 음식점에서 지출한 비\\n“\\n” \\n용을 보상\\n손해발생 후 일째부터 일당\\n4\\n1\\n보험가입금액 한도로 실손 보상\\n사고발생일부터 \\n일 한도총\\n(\\n90\\n, \\n일 한도 보상 가능\\n87\\n)\\n특별\\n약관\\n화재배상책임Ⅱ\\n피보험자가 보험기간 중에 보험증권상의 보장지역내에서 피보험자가 소유사용 또는 관리하는 보험목적\\n, \\n에 발생한 화재폭발을 포함합니다로 인하여 피보험자가 타인의 신체 또는 재물에 대한 법률상의 손해\\n(\\n.)\\n배상책임을 부담하는 경우\\n대인배상 피해자 사고 인당\\n<\\n1\\n1\\n>\\n사망 \\n억\\n만원한도 실손보상\\n ·\\n: 1\\n5,000\\n부상 \\n만원한도 실손보상\\n ·\\n: 3,000\\n후유장해 \\n억\\n만원한도 실손보상\\n ·\\n: 1\\n5,000\\n대물배상 사고당\\n<\\n1\\n>\\n보험가입금액한도 실손보상\\n ·\\n특수건물신체손해배상책임(1710)\\n특수건물의 화재폭발 및 파열로 타인이 사망하거나 부상함으로써 건물소유자 손해배상책임에 따라 피보\\n, \\n험자가 부담한 손해를 피해자 명당 관련법령에서 정한 금액 한도로 약관에 따라 보상\\n1\\n피해자 사고 인당\\n<\\n1\\n1\\n>\\n사망 \\n억\\n만원 한도 실손보상\\n ·\\n: 1\\n5,000\\n부상 \\n만원 한도 실손보상\\n ·\\n: 3,000\\n후유장해 \\n억\\n만원한도 실손보상\\n ·\\n: 1\\n5,000\\n특수건물화재대물배상책임(1710)\\n특수건물의 화재폭발 및 파열로 타인의 재물을 망가뜨려 건물소유자 손해배상책임에 따라 피보험자가 \\n, \\n부담한 손해를 보험증권에 기재된 보상한도액 한도로 약관에 따라 보상\\n사고당 보상한도액 한도\\n1\\n건물복구비용지원화재주택\\n(\\n,\\n)\\n보험목적에 화재벼락폭발파열 포함로 약관에서 정한 손해 발생시 그 손해가 생긴 때와 곳에서의 보\\n(\\n, \\n, \\n)\\n험목적의 재조달가액보험목적과 동형\\n동질의 신품을 재조달하는데 소요되는 금액을 말합니다과 보험가\\n(\\n·\\n)\\n액재조달가액에서 기간경과에 따른 감가상각을 반영한 시가로 계산된 금액을 말합니다각각에 따라 계\\n(\\n) \\n산한 손해액의 차이를 보상\\n보험가입금액 한도 실손보상\\n위 보장내용은 \\n※ \\n무배당 한화 \\n아파트가정종합보험\\n3700 \\n2101의 내용을 요약 발췌한 것이므로 기타 자세한 사항은 해당약관보통약관특별약관의 내용을 따릅니다\\n(\\n, \\n)\\n.\\n'),\n",
       " Document(metadata={'source': './hanwha_apt_security_product.pdf', 'file_path': './hanwha_apt_security_product.pdf', 'page': 3, 'total_pages': 6, 'format': 'PDF 1.5', 'title': '', 'author': '', 'subject': '', 'keywords': '', 'creator': '', 'producer': 'doPDF Ver 7.3 Build 391 (unknown Windows version - Version: 10.0.19042 (x64))', 'creationDate': \"D:20220111131059+09'00'\", 'modDate': '', 'trapped': ''}, page_content='확인필제\\n전사\\n-\\n2022-100016-\\n(2022.01.10~2023.01.09)\\n- 4 -\\n나\\n보험금 지급제한사항\\n-2. \\n실손보상 보장은 동일한 위험을 보장하는 다수의 보험계약이 체결되어 있는 경우보험약관에 따라 비례보상합니다\\n- \\n, \\n.\\n다수계약이란?\\n다수계약에 해당하는 보험종목은 제보험의 상해\\n질병\\n간병보험 및 손해보험의 종합\\n장기손해\\n개인연금\\n퇴직보험\\n3\\n·\\n·\\n·\\n·\\n·\\n을 의미합니다.\\n보험금을 지급하지 않는 사유 등 보험약관의 내용에 따라 보험금의 지급이 제한될 수 있습니다\\n- \\n.\\n회사의 계약의 청약을 승낙하고 제회 보험료를 받은 때자동이체납입 및 신용카드납입의 경우 자동이체신청 및 신용\\n- \\n1\\n(\\n카드 매출 승인에 필요한 정보를 제공한 때다만계약자의 책임있는 사유로 보험료 납입 및 승인이 불가능한 경우는 \\n(\\n, \\n제외부터 약관이 정한 바에 따라 보장을 합니다\\n)\\n.\\n다보험료산출기초 및 공시이율\\n. \\n다\\n보험료의 구성\\n-1. \\n보험계약자가 납입하는 보험료는 보험사고 발생시 보험금지급을 위한 위험보험료만기 시 환급금을 지급하기 위한 적립\\n, \\n보험료보험회사의 사업경비를 위한 부가보험료 등으로 구성됩니다\\n, \\n.\\n다\\n적용이율\\n-2. \\n보장부분 적용이율이란?\\n보험료를 납입하는 시점과 보험금 지급사이에는 시차가 발생하므로 이 기간 동안 기대되는 수익을 미리 예상하여 일\\n정한 비율로 보험료를 할인해 주는데 이 할인율을 보장부분 적용이율이라고 합니다일반적으로 보장부분 적용이율\\n“\\n”\\n. \\n이 높으면 보험료는 내려가고낮아지면 보험료는 올라갑니다\\n, \\n.\\n적립부분 적용이율보장성보험 공시이율\\n이란\\n(\\n)\\n?\\nⅤ\\n적립부분 적용이율공시이율이란 보험회사가 장래 보험금 지급을 위하여 계약자의 납입보험료의 일정부분을 적립해 \\n(\\n)\\n나가는데이 적립금을 적립하는 이율을 의미합니다\\n, \\n.\\n최저보증이율이란?\\n회사의 운용자산이익률 및 시중금리가 하락하더라도 회사에서 지급을 보증하는 최저한도의 적용이율입니다.\\n이 상품의 보장부분 적용이율은 연복리 \\n입니다\\n- \\n2.25%\\n.\\n이 상품의 적립부분 적용이율은 보장성보험 공시이율\\n로 하며\\n년 월 현재 연복리 \\n입니다\\n- \\n, 2022\\n1\\n1.4%\\n.\\nⅤ\\n무배당 한화 \\n아파트가정종합보험\\n은 객관적인 외부지표금리와 운용자산이익률\\n을 가중평균하여 산출된 \\n- “\\n3700 \\n2101”\\n*\\n**\\n공시기준이율에서 향후 예상수익 등을 고려하여 매월 회사가 결정하는 공시이율에 연동되는 상품이며보장성보험 공\\n, \\n시이율\\n가 변동될 경우 이 상품의 적립부분 적용이율도 변동됩니다.\\nⅤ\\n외부지표금리는 국고채회사채통화안정증권양도성예금증서 등을 고려하여 산출\\n  * \\n, \\n, \\n, \\n운용자산이익률은 직전 \\n개월간의 운용자산에 대한 투자영업수익과 투자영업비용 등을 고려하여 산출\\n  ** \\n12\\n이 상품의 최저보증이율은 연복리 \\n입니다\\n- \\n0.3%\\n.\\n이에 대한 보다 자세한 내용은 인터넷 홈페이지 상품공시실에서 무배당 한화 \\n아파트가정종합보험\\n의 사업방\\n“\\n3700 \\n2101”\\n법서를 참조하시기 바랍니다.\\n'),\n",
       " Document(metadata={'source': './hanwha_apt_security_product.pdf', 'file_path': './hanwha_apt_security_product.pdf', 'page': 4, 'total_pages': 6, 'format': 'PDF 1.5', 'title': '', 'author': '', 'subject': '', 'keywords': '', 'creator': '', 'producer': 'doPDF Ver 7.3 Build 391 (unknown Windows version - Version: 10.0.19042 (x64))', 'creationDate': \"D:20220111131059+09'00'\", 'modDate': '', 'trapped': ''}, page_content='확인필제\\n전사\\n-\\n2022-100016-\\n(2022.01.10~2023.01.09)\\n- 5 -\\n다\\n적용위험률\\n-3. \\n적용위험률이란?\\n한 개인이 사망하거나 질병에 걸리는 등의 일정한 보험사고가 발생할 수 있는 확률을 예측한 것을 말합니다.\\n일반적으로 적용위험률이 높으면 보험료가 올라가고 낮으면 보험료는 내려갑니다.\\n적용위험률예시\\n<\\n>\\n아파트 급 기준\\n1\\n구분\\n적용위험률\\n화재손해 위험률\\n0.000058\\n재물담보 실손전환계수주택\\n(\\n)\\n104.9%\\n화재벌금 위험률\\n28\\n주택화재임시거주비\\n일이상위험률\\n(4\\n) \\n0.001902\\n대가전제품고장수리비용\\n사고당 자기부담금 만원연간\\n만원한도\\n12\\n(1\\n2\\n, \\n100\\n) \\n0.024050\\n다\\n계약체결비용 및 계약관리비용\\n-4. \\n계약체결비용 및 계약관리비용이란?\\n보험회사가 보험계약의 체결유지 및 관리 등에 필요한 경비로 사용하기 위하여 보험료 중 일정비율을 책정한 것을 \\n, \\n말합니다.\\n라보험가격지수\\n. \\n보험가격지수란\\n \\n?\\n해당상품의 보험료총액보험금 지급을 위한 보험료 및 보험회사의 사업경비 등을 위한 보험료을 참조순보험료 총액과 \\n(\\n)\\n*\\n평균사업비총액\\n을 합한 금액으로 나눈 비율을 보험가격지수라고 합니다\\n**\\n“\\n”\\n.\\n금융감독원이 정하는 평균공시이율 및 참조순보험요율을 적용하여 산출한 보험금 지급을 위한 보험료\\n* \\n상품군별로 손해보험상품 전체의 평균 사업비율을 반영하여 계산역산한 값\\n** \\n(\\n)\\n회사별상품별 비교\\n공시 \\n손해보험협회\\n/\\n: \\n(\\n※ \\n•\\nwww.knia.or.kr\\n상품비교\\n공시실\\n참조\\n) “\\n·\\n” \\n보험가격지수(%)\\n기준\\n남자\\n여자\\n아파트 급\\n년만기 전기납월납\\n1\\n, 10\\n, \\n94.6\\n94.8\\n마계약자배당에 관한 사항\\n. \\n이 상품은 무배당상품으로서 배당을 하지 않습니다그러나 무배당 상품은 배당상품에 비해 보험료가 상대적으로 저렴하\\n. \\n다는 특징이 있습니다. \\n바해지환급금에 관한 사항\\n. \\n바\\n해지환급금 산출기준\\n-1. \\n회사는 금융감독원장이 인가한 산출기준에 따라 계산한 이 보험의 순보험료식 책임준비금에서 해지공제액을 공제한 금\\n- \\n액을 해지환급금으로 지급하여 드립니다.\\n'),\n",
       " Document(metadata={'source': './hanwha_apt_security_product.pdf', 'file_path': './hanwha_apt_security_product.pdf', 'page': 5, 'total_pages': 6, 'format': 'PDF 1.5', 'title': '', 'author': '', 'subject': '', 'keywords': '', 'creator': '', 'producer': 'doPDF Ver 7.3 Build 391 (unknown Windows version - Version: 10.0.19042 (x64))', 'creationDate': \"D:20220111131059+09'00'\", 'modDate': '', 'trapped': ''}, page_content='확인필제\\n전사\\n-\\n2022-100016-\\n(2022.01.10~2023.01.09)\\n- 6 -\\n바\\n해지환급금 예시\\n-2. \\n가입기준 \\n아파트 급 \\n· \\n: \\n1\\n100\\ue0f1\\ue035\\n년만기 전기납월납보험료 \\n원\\n, 10\\n, \\n3,700\\n보장내역 \\n화재손해실손전부보상건물 억원가재도구 천만원건물복구비용지원화재주택\\n천만원\\n· \\n: \\n(\\n) \\n1\\n, \\n2\\n, \\n(\\n,\\n) 2\\n, \\n화재벌금실손\\n천만원\\n대가전제품고장수리비용실손\\n만원\\n(\\n) 2\\n, 12\\n(\\n) 100\\n, \\n임시거주비화재실손일이상주택\\n만원\\n(\\n,\\n,4\\n,\\n) 10\\n, \\n화재배상책임\\n대인\\n인당사망 및 후유장애 억천만원부상 천만원대물\\n사고당\\n억원\\n(1\\n) \\n1\\n5\\n/\\n3\\n, \\n(1\\n) 10\\nⅡ \\n경과기간별 해지환급금 예시표                                                               단위 \\n원\\n(\\n: \\n, %)\\n□ \\n구 분\\n납입보험료\\n해지환급금\\n최저보증이율\\n적용이율\\n해지환급금\\n환급률(%)\\n평균공시이율\\n공시이율\\n해지환급금\\n환급률(%)\\n해지환급금\\n환급률(%)\\n년\\n1\\n44,400\\n0\\n0.0\\n0\\n0.0\\n0\\n0.0\\n년\\n2\\n88,800\\n0\\n0.0\\n0\\n0.0\\n0\\n0.0\\n년\\n3\\n133,200\\n0\\n0.0\\n0\\n0.0\\n0\\n0.0\\n년\\n4\\n177,600\\n2,500\\n1.4\\n2,757\\n1.5\\n2,757\\n1.5\\n년\\n5\\n222,000\\n8,393\\n3.7\\n8,796\\n3.9\\n8,796\\n3.9\\n만기\\n444,000\\n28,749\\n6.4\\n30,397\\n6.8\\n30,397\\n6.8\\n주\\n적용이율 해지환급금의 적립부분은 적립부분 순보험료를 공시이율보장성보험 공시이율\\n년 월 현재 연\\n) 1. \\n(\\n: 2022\\n1\\nⅤ \\n복리 \\n감독규정 제\\n조 제\\n호에 따른 평균공시이율\\n년 월 현재 \\n판매시점의 공시이율을 한\\n1.4%), \\n1-2\\n13\\n[2022\\n1\\n2.25%, \\n도로 함\\n년 월 현재 \\n적용을 기준으로 계산된 금액이며 실제 해지시에는 공시이율을 적용합니다\\n향\\n(2022\\n1\\n1.4% \\n)]\\n. \\n후 보장성보험 공시이율\\n의 변동 또는 보험료 납입일 등에 따라 해지환급금은 증감될 수 있습니다.\\nⅤ\\n최저보증이율 해지환급금의 적립부분은 적립부분 순보험료를 경과기간에 따라 연복리 \\n를 적용하여 산출한 \\n    2. \\n0.3%\\n금액입니다.\\n상기 예시금액 중 해지환급금은 보장부분 해지환급금과 적립부분 해지환급금의 합계입니다\\n    3. \\n.\\n적립부분 순보험료는 적립보험료에서 적립부분에 해당하는 부가보험료를 제외한 보험료를 말합니다\\n    4. \\n.\\n가입 후 \\n년 이내에 해지시 해지환급금이 기납입보험료보다 큰 경우 그 차액에 대하여 이자소득세가 부과될 수 \\n    5. \\n10\\n있습니다.\\n중도인출시 인출금액 및 인출금액에 적립되는 이자만큼 만기해지환급금에서 차감하여 지급하므로 만기해지환급\\n    6. \\n(\\n)\\n(\\n)\\n금이 현저하게 감소할 수 있습니다.\\n평균공시이율은 감독원장이 정하는 바에 따라 산정한 전체 보험회사 공시이율의 평균으로전년도 월말 기준 직\\n    7. \\n, \\n9\\n전 \\n개월간 보험회사 평균공시이율을 말합니다\\n12\\n.\\n바\\n해지환급금이 적은 이유\\n-3. \\n손해보험상품은 은행의 저축과는 달리 위험보장과 저축기능을 겸한 제도로서 보험계약자가 납입한 보험료 중 일부는 불\\n의의 사고를 당한 다른 보험계약자에게 지급되는 보험금의 재원으로또 다른 일부는 보험회사 운영에 필요한 사업경비로 \\n, \\n사용되므로 중도해지시 지급되는 해지환급금은 납입한 보험료보다 적거나 없을 수도 있습니다.\\n이 상품요약서는 무배당 한화 \\n아파트가정종합보험\\n의 주요내용을 요약 발췌한 것이므로 기타 자세한 \\n3700 \\n2101\\n사항은 해당약관보통약관특별약관의 내용을 따릅니다\\n(\\n, \\n)\\n.\\n')]"
      ]
     },
     "execution_count": 3,
     "metadata": {},
     "output_type": "execute_result"
    }
   ],
   "source": [
    "documents"
   ]
  },
  {
   "cell_type": "code",
   "execution_count": 8,
   "metadata": {},
   "outputs": [
    {
     "name": "stderr",
     "output_type": "stream",
     "text": [
      "Created a chunk of size 314, which is longer than the specified 300\n",
      "Created a chunk of size 1206, which is longer than the specified 300\n",
      "Created a chunk of size 415, which is longer than the specified 300\n",
      "Created a chunk of size 497, which is longer than the specified 300\n"
     ]
    }
   ],
   "source": [
    "# python -m spacy download ko_core_news_sm\n",
    "from langchain.text_splitter import SpacyTextSplitter\n",
    "\n",
    "text_splitter = SpacyTextSplitter(\n",
    "    chunk_size = 300,    # 글자수\n",
    "    pipeline='ko_core_news_sm'\n",
    ")\n",
    "# 문장 단위로 분할, 최대 글자 수 300 \n",
    "splitted_documents = text_splitter.split_documents(documents)"
   ]
  },
  {
   "cell_type": "code",
   "execution_count": 9,
   "metadata": {},
   "outputs": [
    {
     "data": {
      "text/plain": [
       "[Document(metadata={'producer': 'doPDF Ver 7.3 Build 391 (unknown Windows version - Version: 10.0.19042 (x64))', 'creator': '', 'creationdate': '2022-01-11T13:10:59+09:00', 'source': './hanwha_apt_security_product.pdf', 'file_path': './hanwha_apt_security_product.pdf', 'total_pages': 6, 'format': 'PDF 1.5', 'title': '', 'author': '', 'subject': '', 'keywords': '', 'moddate': '', 'trapped': '', 'page': 0}, page_content='확인필제\\n전사\\n-\\n2022-100016-\\n(2022.01.10~2023.01.09)'),\n",
       " Document(metadata={'producer': 'doPDF Ver 7.3 Build 391 (unknown Windows version - Version: 10.0.19042 (x64))', 'creator': '', 'creationdate': '2022-01-11T13:10:59+09:00', 'source': './hanwha_apt_security_product.pdf', 'file_path': './hanwha_apt_security_product.pdf', 'total_pages': 6, 'format': 'PDF 1.5', 'title': '', 'author': '', 'subject': '', 'keywords': '', 'moddate': '', 'trapped': '', 'page': 0}, page_content='- 1 -\\n무배당 한화 \\n아파트가정종합보험\\n상품요약서\\n무배당 한화 \\n아파트가정종합보험\\n상품요약서\\n무배당 한화 \\n아파트가정종합보험\\n상품요약서\\n무배당 한화 \\n아파트가정종합보험\\n상품요약서\\n무배당 한화 \\n아파트가정종합보험\\n상품요약서\\n무배당 한화 \\n아파트가정종합보험\\n상품요약서\\n3700 \\n2101 \\n3700 \\n2101 \\n3700 \\n2101 \\n3700 \\n2101 \\n3700 \\n2101 \\n3700 \\n2101 \\n무배당 한화 \\n아파트가정종합보험\\n상품요약서\\n3700 \\n2101 \\n  Q & A\\n【\\n】\\n  \\n\\nQ & A\\n【\\n】'),\n",
       " Document(metadata={'producer': 'doPDF Ver 7.3 Build 391 (unknown Windows version - Version: 10.0.19042 (x64))', 'creator': '', 'creationdate': '2022-01-11T13:10:59+09:00', 'source': './hanwha_apt_security_product.pdf', 'file_path': './hanwha_apt_security_product.pdf', 'total_pages': 6, 'format': 'PDF 1.5', 'title': '', 'author': '', 'subject': '', 'keywords': '', 'moddate': '', 'trapped': '', 'page': 0}, page_content='Q & A\\n【\\n】\\n\\n\\n주택물건 중 특수건물은 어떤 건물인가요\\nQ. \\n?\\n\\n\\n주택물건 중 특수건물은 \\n층 이상의 아파트 및 부속건물을 말합니다\\n16\\n.\\n▶ \\n보험가액 산정은 어떻게 하나요\\nQ. \\n?\\n\\n\\n가평가대상 건물과 똑같은 구조규모용도의 건물을 짓는데 필요한 가액에서 경과기간에 따른 감가상각분을 공제하여 \\n. \\n, \\n, \\n현재가액을 산출합니다.\\n\\n\\n나건물에 대한 감정평가서가 있을 때에는 평가액을 가액으로 합니다\\n. \\n.\\n\\n\\n\\n\\n임시거주비화재실손\\n일이상주택보장의 보장내용 및 기간은 어떻게 되나요\\nQ. \\n\\n\\n(\\n,\\n,4\\n,\\n) \\n?'),\n",
       " Document(metadata={'producer': 'doPDF Ver 7.3 Build 391 (unknown Windows version - Version: 10.0.19042 (x64))', 'creator': '', 'creationdate': '2022-01-11T13:10:59+09:00', 'source': './hanwha_apt_security_product.pdf', 'file_path': './hanwha_apt_security_product.pdf', 'total_pages': 6, 'format': 'PDF 1.5', 'title': '', 'author': '', 'subject': '', 'keywords': '', 'moddate': '', 'trapped': '', 'page': 0}, page_content='가평가대상 건물과 똑같은 구조규모용도의 건물을 짓는데 필요한 가액에서 경과기간에 따른 감가상각분을 공제하여 \\n. \\n, \\n, \\n현재가액을 산출합니다.\\n\\n\\n나건물에 대한 감정평가서가 있을 때에는 평가액을 가액으로 합니다\\n. \\n.\\n\\n\\n\\n\\n임시거주비화재실손\\n일이상주택보장의 보장내용 및 기간은 어떻게 되나요\\nQ. \\n\\n\\n(\\n,\\n,4\\n,\\n) \\n?\\n\\n\\n가보험목적이 약관에서 정한 손해를 입었을 경우 사고마다 손해발생 후 일째부터 일당 \\n만원을 한도로 피보험자\\n.'),\n",
       " Document(metadata={'producer': 'doPDF Ver 7.3 Build 391 (unknown Windows version - Version: 10.0.19042 (x64))', 'creator': '', 'creationdate': '2022-01-11T13:10:59+09:00', 'source': './hanwha_apt_security_product.pdf', 'file_path': './hanwha_apt_security_product.pdf', 'total_pages': 6, 'format': 'PDF 1.5', 'title': '', 'author': '', 'subject': '', 'keywords': '', 'moddate': '', 'trapped': '', 'page': 0}, page_content='나건물에 대한 감정평가서가 있을 때에는 평가액을 가액으로 합니다\\n. \\n.\\n\\n\\n\\n\\n임시거주비화재실손\\n일이상주택보장의 보장내용 및 기간은 어떻게 되나요\\nQ. \\n\\n\\n(\\n,\\n,4\\n,\\n) \\n?\\n\\n\\n가보험목적이 약관에서 정한 손해를 입었을 경우 사고마다 손해발생 후 일째부터 일당 \\n만원을 한도로 피보험자\\n.\\n\\n\\n\\n\\n1\\n4\\n1\\n10\\n가 본인 및 본인과 생계를 같이하고 보험목적의 주민등록상 동거중인 가족을 위해 복구기간 내 임시거주기간\\n동안 \\n“\\n” \\n숙박시설 또는 음식점에서 실제로 지출한 숙박비 및 식대를 임시거주비로 지급합니다.'),\n",
       " Document(metadata={'producer': 'doPDF Ver 7.3 Build 391 (unknown Windows version - Version: 10.0.19042 (x64))', 'creator': '', 'creationdate': '2022-01-11T13:10:59+09:00', 'source': './hanwha_apt_security_product.pdf', 'file_path': './hanwha_apt_security_product.pdf', 'total_pages': 6, 'format': 'PDF 1.5', 'title': '', 'author': '', 'subject': '', 'keywords': '', 'moddate': '', 'trapped': '', 'page': 0}, page_content='1\\n4\\n1\\n10\\n가 본인 및 본인과 생계를 같이하고 보험목적의 주민등록상 동거중인 가족을 위해 복구기간 내 임시거주기간\\n동안 \\n“\\n” \\n숙박시설 또는 음식점에서 실제로 지출한 숙박비 및 식대를 임시거주비로 지급합니다.\\n\\n\\n나복구기간이 추정복구기간 또는 약정복구기간을 초과하는 경우 복구기간 내 임시거주기간은 추정복구기간과 약정복\\n. \\n“\\n”\\n구기간 내 임시거주기간 중 짧은 기간으로 하며\\n면책기간손해가 발생한 때부터 최초 일까지\\n동안 발생한 임시거\\n, \\n(\\n3\\n) \\n주비에 대하여는 보상하지 않습니다.'),\n",
       " Document(metadata={'producer': 'doPDF Ver 7.3 Build 391 (unknown Windows version - Version: 10.0.19042 (x64))', 'creator': '', 'creationdate': '2022-01-11T13:10:59+09:00', 'source': './hanwha_apt_security_product.pdf', 'file_path': './hanwha_apt_security_product.pdf', 'total_pages': 6, 'format': 'PDF 1.5', 'title': '', 'author': '', 'subject': '', 'keywords': '', 'moddate': '', 'trapped': '', 'page': 0}, page_content='보험금 지급 예시\\n[\\n]\\n \\n \\n약정복구기간 \\n일\\n90\\n면책기간\\n일\\n(3\\n)\\n복구기간 내 임시거주기간에 대해\\n“\\n”\\n임시거주비를 \\n일 한도로 지급 \\n87\\n사고 발생\\n용어의 정의\\n[\\n]\\n면책기간 \\n회사가 손해를 보상하지 않는 기간으로보험목적이 손해를 입었던 때부터 최초 일입니다\\n1. \\n: \\n, \\n3\\n.\\n약정복구기간 \\n회사와 피보험자가 약정한 최대복구기간으로보험목적이 손해를 입었던 때로부터 \\n일간을 말합니다\\n2. \\n: \\n, \\n90\\n.\\n추정복구기간 \\n보험목적을 손해발생 직전의 상태로 복구하기 위하여 통상적으로 필요하다고 인정되는 기간을 말합니다\\n3. \\n: \\n.'),\n",
       " Document(metadata={'producer': 'doPDF Ver 7.3 Build 391 (unknown Windows version - Version: 10.0.19042 (x64))', 'creator': '', 'creationdate': '2022-01-11T13:10:59+09:00', 'source': './hanwha_apt_security_product.pdf', 'file_path': './hanwha_apt_security_product.pdf', 'total_pages': 6, 'format': 'PDF 1.5', 'title': '', 'author': '', 'subject': '', 'keywords': '', 'moddate': '', 'trapped': '', 'page': 0}, page_content='복구기간 \\n보험금 지급대상이 되는 기간으로 보험목적이 손해를 입은 때로부터 지체없이 이를 복구할 때까지 필요한 기간을 \\n4. \\n: \\n말합니다또한 법령의 규제 등 부득이한 사유로 인하여 보험목적을 복구하지 않을 경우에는 추정복구기간을 \\n. \\n\\n\\n복구기간으로 인정합니다그러나 어떠한 경우에도 복구기간은 추정복구기간이나 약정복구기간을 초과할 수 없으며\\n. \\n, \\n복구기간에 대한 판단은 회사의 동의를 받아야 합니다.\\n\\n\\n건물복구비용지원화재주택특별약관의 보장내용은 어떻게 되나요\\nQ. \\n(\\n,\\n) \\n?'),\n",
       " Document(metadata={'producer': 'doPDF Ver 7.3 Build 391 (unknown Windows version - Version: 10.0.19042 (x64))', 'creator': '', 'creationdate': '2022-01-11T13:10:59+09:00', 'source': './hanwha_apt_security_product.pdf', 'file_path': './hanwha_apt_security_product.pdf', 'total_pages': 6, 'format': 'PDF 1.5', 'title': '', 'author': '', 'subject': '', 'keywords': '', 'moddate': '', 'trapped': '', 'page': 0}, page_content='복구기간으로 인정합니다그러나 어떠한 경우에도 복구기간은 추정복구기간이나 약정복구기간을 초과할 수 없으며\\n. \\n, \\n복구기간에 대한 판단은 회사의 동의를 받아야 합니다.\\n\\n\\n건물복구비용지원화재주택특별약관의 보장내용은 어떻게 되나요\\nQ. \\n(\\n,\\n) \\n?\\n\\n\\n보험목적이 약관에서 정한 화재손해를 입어 해당 보험목적을 수리 또는 복구하였을 때\\n손해가 생긴 때와 곳에서의 \\n, \\n▶ \\n보험목적의 재조달가액주1)과 보험가액주2)에 따라 각각 계산한 손해액의 차이이하 재조달차액이라 합니다를 보상합\\n(\\n“\\n”\\n)\\n니다.'),\n",
       " Document(metadata={'producer': 'doPDF Ver 7.3 Build 391 (unknown Windows version - Version: 10.0.19042 (x64))', 'creator': '', 'creationdate': '2022-01-11T13:10:59+09:00', 'source': './hanwha_apt_security_product.pdf', 'file_path': './hanwha_apt_security_product.pdf', 'total_pages': 6, 'format': 'PDF 1.5', 'title': '', 'author': '', 'subject': '', 'keywords': '', 'moddate': '', 'trapped': '', 'page': 0}, page_content='건물복구비용지원화재주택특별약관의 보장내용은 어떻게 되나요\\nQ. \\n(\\n,\\n) \\n?\\n\\n\\n보험목적이 약관에서 정한 화재손해를 입어 해당 보험목적을 수리 또는 복구하였을 때\\n손해가 생긴 때와 곳에서의 \\n, \\n▶ \\n보험목적의 재조달가액주1)과 보험가액주2)에 따라 각각 계산한 손해액의 차이이하 재조달차액이라 합니다를 보상합\\n(\\n“\\n”\\n)\\n니다.\\n\\n\\n주\\n보험목적과 동형\\n동질의 신품을 재조달하는데 소요되는 금액을 말합니다\\n1) \\n·\\n.\\n주\\n재조달가액에서 기간 경과에 따른 감가상각을 반영한 시가로 계산된 금액을 말합니다\\n2) \\n.'),\n",
       " Document(metadata={'producer': 'doPDF Ver 7.3 Build 391 (unknown Windows version - Version: 10.0.19042 (x64))', 'creator': '', 'creationdate': '2022-01-11T13:10:59+09:00', 'source': './hanwha_apt_security_product.pdf', 'file_path': './hanwha_apt_security_product.pdf', 'total_pages': 6, 'format': 'PDF 1.5', 'title': '', 'author': '', 'subject': '', 'keywords': '', 'moddate': '', 'trapped': '', 'page': 0}, page_content='보험가액재조달가액 및 재조달차액\\n[\\n, \\n]\\n가\\n(\\n)\\n물가상승 등으로 \\n재조달가액 변동\\n신축시점의 가액\\n사고시점의\\n재조달가액\\n가\\n재조달가액으로 계산한 손해액\\n(\\n) : \\n  \\n감가상각으로\\n보험가액 변동\\n나\\n(\\n)\\n신축시점의 가액\\n사고시점의\\n보험가액\\n나\\n보험가액으로 계산한 손해액\\n(\\n) : \\n이 특별약관에서 보상하는 손해 \\n재조달차액\\n가\\n나\\n: “\\n” = (\\n) - (\\n)'),\n",
       " Document(metadata={'producer': 'doPDF Ver 7.3 Build 391 (unknown Windows version - Version: 10.0.19042 (x64))', 'creator': '', 'creationdate': '2022-01-11T13:10:59+09:00', 'source': './hanwha_apt_security_product.pdf', 'file_path': './hanwha_apt_security_product.pdf', 'total_pages': 6, 'format': 'PDF 1.5', 'title': '', 'author': '', 'subject': '', 'keywords': '', 'moddate': '', 'trapped': '', 'page': 1}, page_content='확인필제\\n전사\\n-\\n2022-100016-\\n(2022.01.10~2023.01.09)\\n- 2 -\\n가가입자격제한 등 상품별 특이사항\\n. \\n\\n\\n가\\n가입자격제한\\n-1. \\n\\n\\n이 상품은 주택 소유자 또는 주택 임차자를 위한 보험입니다\\n단\\n신계약 체결 시 아파트 주택물건에 한하여 가입할 \\n- \\n. \\n, \\n수 있습니다.\\n\\n\\n이 상품은 보험목적의 주변환경위험정도물건의 급수 및 기타사항으로 인해 보험가입금액이 제한되거나 인수가 불가\\n- \\n, \\n, \\n능할 수 있습니다.\\n\\n\\n가\\n상품의 특이사항\\n-2.'),\n",
       " Document(metadata={'producer': 'doPDF Ver 7.3 Build 391 (unknown Windows version - Version: 10.0.19042 (x64))', 'creator': '', 'creationdate': '2022-01-11T13:10:59+09:00', 'source': './hanwha_apt_security_product.pdf', 'file_path': './hanwha_apt_security_product.pdf', 'total_pages': 6, 'format': 'PDF 1.5', 'title': '', 'author': '', 'subject': '', 'keywords': '', 'moddate': '', 'trapped': '', 'page': 1}, page_content='이 상품은 보험목적의 주변환경위험정도물건의 급수 및 기타사항으로 인해 보험가입금액이 제한되거나 인수가 불가\\n- \\n, \\n, \\n능할 수 있습니다.\\n\\n\\n가\\n상품의 특이사항\\n-2.\\n\\n\\n\\n\\n보험기간보험료 납입기간가입나이 및 보험료 납입주기에 관한 사항\\n1) \\n, \\n, \\n보험기간보험료 납입기간가입나이보험료 납입주기\\n- \\n, \\n, \\n, \\n구     분\\n보험기간\\n납입기간\\n가입나이\\n납입주기\\n보통\\n약관\\n화재벌금실손'),\n",
       " Document(metadata={'producer': 'doPDF Ver 7.3 Build 391 (unknown Windows version - Version: 10.0.19042 (x64))', 'creator': '', 'creationdate': '2022-01-11T13:10:59+09:00', 'source': './hanwha_apt_security_product.pdf', 'file_path': './hanwha_apt_security_product.pdf', 'total_pages': 6, 'format': 'PDF 1.5', 'title': '', 'author': '', 'subject': '', 'keywords': '', 'moddate': '', 'trapped': '', 'page': 1}, page_content='(\\n),\\n대가전제품고장수리비용실손\\n12\\n(\\n),\\n화재손해실손전부보상\\n(\\n),\\n임시거주비화재실손일이상주택\\n(\\n,\\n,4\\n,\\n)\\n년\\n5\\n전기납\\n만\\n세\\n세\\n19\\n~80\\n월납\\n년\\n10\\n전기납\\n특별\\n약관\\n화재배상책임\\n,\\nⅡ\\n특수건물신체손해배상책임(1710),\\n특수건물화재대물배상책임(1710),\\n건물복구비용지원화재주택\\n(\\n,\\n)\\n년\\n5\\n전기납\\n만\\n세\\n세\\n19\\n~80\\n월납\\n년\\n10\\n전기납\\n회사가 정하는 기준에 따라 직무영위업종 및 보험목적의 상태 등에 의해 보험가입 금액이 제한되거나 가입이 불\\n, \\n※ \\n가능할 수 있습니다.'),\n",
       " Document(metadata={'producer': 'doPDF Ver 7.3 Build 391 (unknown Windows version - Version: 10.0.19042 (x64))', 'creator': '', 'creationdate': '2022-01-11T13:10:59+09:00', 'source': './hanwha_apt_security_product.pdf', 'file_path': './hanwha_apt_security_product.pdf', 'total_pages': 6, 'format': 'PDF 1.5', 'title': '', 'author': '', 'subject': '', 'keywords': '', 'moddate': '', 'trapped': '', 'page': 1}, page_content='가입제한에 관한 사항\\n2) \\n특수건물신체손해배상책임\\n특별약관과 특수건물화재대물배상책임\\n특별약관은 동시에 가입하여야 합니\\n- \\n(1710) \\n(1710) \\n다.\\n하나의 보험목적에 대해 특수건물신체손해배상책임\\n특별약관 및 특수건물화재대물배상책임\\n특별약관은 \\n- \\n(1710) \\n(1710) \\n화재배상책임\\n특별약관과 동시에 가입할 수 없습니다.\\n\\n\\n\\n\\nⅡ \\n특수건물신체손해배상책임\\n특별약관과 특수건물화재대물배상책임\\n특별약관은 특수건물에 한하여 가입\\n- \\n(1710) \\n(1710) \\n할 수 있습니다.'),\n",
       " Document(metadata={'producer': 'doPDF Ver 7.3 Build 391 (unknown Windows version - Version: 10.0.19042 (x64))', 'creator': '', 'creationdate': '2022-01-11T13:10:59+09:00', 'source': './hanwha_apt_security_product.pdf', 'file_path': './hanwha_apt_security_product.pdf', 'total_pages': 6, 'format': 'PDF 1.5', 'title': '', 'author': '', 'subject': '', 'keywords': '', 'moddate': '', 'trapped': '', 'page': 1}, page_content='Ⅱ \\n특수건물신체손해배상책임\\n특별약관과 특수건물화재대물배상책임\\n특별약관은 특수건물에 한하여 가입\\n- \\n(1710) \\n(1710) \\n할 수 있습니다.\\n\\n\\n만기환급금에 관한 사항\\n3) \\n회사는 보험기간이 끝난 때에 적립부분 순보험료에 대하여 보험료 납입일회사에 입금된 날을 말합니다부터 보장\\n- \\n*\\n(\\n)\\n성보험 공시이율\\n로 보험료 및 책임준비금 산출방법서에 따라 계산한 금액을 만기환급금으로 보험수익자에게 지\\nⅤ\\n「\\n」\\n급합니다다만이 약관에서 정한 대출금이 있을 때에는 그 대출원금과 이자의 합계액을 빼고 지급합니다\\n. \\n, \\n.'),\n",
       " Document(metadata={'producer': 'doPDF Ver 7.3 Build 391 (unknown Windows version - Version: 10.0.19042 (x64))', 'creator': '', 'creationdate': '2022-01-11T13:10:59+09:00', 'source': './hanwha_apt_security_product.pdf', 'file_path': './hanwha_apt_security_product.pdf', 'total_pages': 6, 'format': 'PDF 1.5', 'title': '', 'author': '', 'subject': '', 'keywords': '', 'moddate': '', 'trapped': '', 'page': 1}, page_content='적립부분 순보험료는 적립보험료에서 적립부분에 해당하는 부가보험료를 제외한 보험료를 말합니다\\n  * \\n.'),\n",
       " Document(metadata={'producer': 'doPDF Ver 7.3 Build 391 (unknown Windows version - Version: 10.0.19042 (x64))', 'creator': '', 'creationdate': '2022-01-11T13:10:59+09:00', 'source': './hanwha_apt_security_product.pdf', 'file_path': './hanwha_apt_security_product.pdf', 'total_pages': 6, 'format': 'PDF 1.5', 'title': '', 'author': '', 'subject': '', 'keywords': '', 'moddate': '', 'trapped': '', 'page': 2}, page_content='확인필제\\n전사\\n-\\n2022-100016-\\n(2022.01.10~2023.01.09)\\n- 3 -\\n나보험금 지급사유지급금액 및 지급제한사항\\n. \\n, \\n나\\n보험금 지급사유 및 지급금액\\n-1.'),\n",
       " Document(metadata={'producer': 'doPDF Ver 7.3 Build 391 (unknown Windows version - Version: 10.0.19042 (x64))', 'creator': '', 'creationdate': '2022-01-11T13:10:59+09:00', 'source': './hanwha_apt_security_product.pdf', 'file_path': './hanwha_apt_security_product.pdf', 'total_pages': 6, 'format': 'PDF 1.5', 'title': '', 'author': '', 'subject': '', 'keywords': '', 'moddate': '', 'trapped': '', 'page': 2}, page_content='구  분\\n지급사유\\n지급액\\n보통\\n약관\\n화재손해실손전부보상\\n(\\n)\\n화재폭발파열 포함로 인해 건물 및 가재의 손해 및 소방\\n피난 손해가 발생한 경우\\n(\\n, \\n)\\n·\\n보험가입금액 한도 실손보상\\n잔존물 제거비용\\n화재로 잔존물 제거비용 발생 시 손해액의 \\n한도 보상\\n10% \\n잔존물 제거비용\\n잔존물의 해체비용청소비용상차비용차에 싣는 비용\\n단화재손해보험금과 합산\\n: \\n, \\n, \\n(\\n) (\\n, \\n※ \\n하여 보험가입금액을 초과할 수 없음)\\n대가전제품고장수리비용실손\\n12\\n(\\n)\\n보험기간 중에 피보험자가 거주하는 주택 구내에 있는 \\n대가전제품에 고장이 발생하여 이를 수리하여 \\n12\\n생긴 실제 수리비 계약체결일부터 \\n일 이내에 수리하여 수리비가 발생한 손해 제외\\n(\\n60\\n)\\n대가전제품 \\n세탁기냉장고김치냉장고에어컨전자레인지공기청정기청소기식기세척\\n12\\n: TV, \\n, \\n, \\n, \\n, \\n, \\n, \\n, \\n※ \\n기의류건조기의류관리기제습기\\n, \\n, \\n, \\n해당 가전이 수리 불가 등으로 실제 수리비가 발생하지 않은 경우에는 보상하지 않음\\n※ \\n수리란 해당 제품의 공식적인 국내 \\n지정점에서 실제 수리하여 수리비를 지급한 경우를 말함\\n“\\n”\\nAS\\n※ \\n연간 보험가입금액\\n만원한도 실손보상\\n(100\\n) \\n자기부담금\\n만원\\n(\\n:2\\n)\\n화재벌금\\n대한민국 내에서 벌금형의 원인이 되는 화재가 발생하고 형법 제\\n조실화혹은 동법 제\\n조업무상\\n170\\n(\\n) \\n171\\n(\\n실화중실화에 따른 벌금형이 확정된 경우\\n, \\n)\\n한도 내 실손보상\\n형법 제\\n조에 의한 벌금\\n만원 한도\\n170\\n: 1,500\\n형법 제\\n조에 의한 벌금\\n만원 한도\\n171\\n: 2,000\\n임시거주비화재실손일이상주택\\n(\\n,\\n,4\\n,\\n)\\n보험목적에 화재벼락폭발파열 포함로 직접손해소방손해피난손해가 발생하여 보험목적 내에 거주\\n(\\n, \\n, \\n)\\n, \\n, \\n할 수 없게 된 경우 피보험자 본인 및 본인과 생계를 같이하고 보험목적의 주민등록상 동거중인 가족을 \\n위해 보험목적의 약관에서 정한 복구기간 내 임시거주기간\\n동안 숙박시설 또는 음식점에서 지출한 비\\n“\\n” \\n용을 보상\\n손해발생 후 일째부터 일당\\n4\\n1\\n보험가입금액 한도로 실손 보상\\n사고발생일부터 \\n일 한도총\\n(\\n90\\n, \\n일 한도 보상 가능\\n87\\n)\\n특별\\n약관\\n화재배상책임Ⅱ\\n피보험자가 보험기간 중에 보험증권상의 보장지역내에서 피보험자가 소유사용 또는 관리하는 보험목적\\n, \\n에 발생한 화재폭발을 포함합니다로 인하여 피보험자가 타인의 신체 또는 재물에 대한 법률상의 손해\\n(\\n.'),\n",
       " Document(metadata={'producer': 'doPDF Ver 7.3 Build 391 (unknown Windows version - Version: 10.0.19042 (x64))', 'creator': '', 'creationdate': '2022-01-11T13:10:59+09:00', 'source': './hanwha_apt_security_product.pdf', 'file_path': './hanwha_apt_security_product.pdf', 'total_pages': 6, 'format': 'PDF 1.5', 'title': '', 'author': '', 'subject': '', 'keywords': '', 'moddate': '', 'trapped': '', 'page': 2}, page_content=')'),\n",
       " Document(metadata={'producer': 'doPDF Ver 7.3 Build 391 (unknown Windows version - Version: 10.0.19042 (x64))', 'creator': '', 'creationdate': '2022-01-11T13:10:59+09:00', 'source': './hanwha_apt_security_product.pdf', 'file_path': './hanwha_apt_security_product.pdf', 'total_pages': 6, 'format': 'PDF 1.5', 'title': '', 'author': '', 'subject': '', 'keywords': '', 'moddate': '', 'trapped': '', 'page': 2}, page_content='배상책임을 부담하는 경우\\n대인배상 피해자 사고 인당\\n<\\n1\\n1\\n>\\n사망 \\n억\\n만원한도 실손보상\\n ·\\n: 1\\n5,000\\n부상 \\n만원한도 실손보상\\n ·\\n: 3,000\\n후유장해 \\n억\\n만원한도 실손보상\\n ·\\n: 1\\n5,000\\n대물배상 사고당\\n<\\n1\\n>\\n보험가입금액한도 실손보상\\n ·\\n특수건물신체손해배상책임(1710)\\n특수건물의 화재폭발 및 파열로 타인이 사망하거나 부상함으로써 건물소유자 손해배상책임에 따라 피보\\n, \\n험자가 부담한 손해를 피해자 명당 관련법령에서 정한 금액 한도로 약관에 따라 보상\\n1\\n피해자 사고 인당\\n<\\n1\\n1\\n>\\n사망 \\n억\\n만원 한도 실손보상\\n ·\\n: 1\\n5,000\\n부상 \\n만원 한도 실손보상\\n ·\\n: 3,000\\n후유장해 \\n억\\n만원한도 실손보상\\n ·\\n: 1\\n5,000\\n특수건물화재대물배상책임(1710)\\n특수건물의 화재폭발 및 파열로 타인의 재물을 망가뜨려 건물소유자 손해배상책임에 따라 피보험자가 \\n, \\n부담한 손해를 보험증권에 기재된 보상한도액 한도로 약관에 따라 보상\\n사고당 보상한도액 한도\\n1\\n건물복구비용지원화재주택\\n(\\n,\\n)\\n보험목적에 화재벼락폭발파열 포함로 약관에서 정한 손해 발생시 그 손해가 생긴 때와 곳에서의 보\\n(\\n, \\n, \\n)\\n험목적의 재조달가액보험목적과 동형\\n동질의 신품을 재조달하는데 소요되는 금액을 말합니다과 보험가\\n(\\n·\\n)\\n액재조달가액에서 기간경과에 따른 감가상각을 반영한 시가로 계산된 금액을 말합니다각각에 따라 계\\n(\\n) \\n산한 손해액의 차이를 보상\\n보험가입금액 한도 실손보상\\n위 보장내용은 \\n※ \\n무배당 한화 \\n아파트가정종합보험\\n3700 \\n2101의 내용을 요약 발췌한 것이므로 기타 자세한 사항은 해당약관보통약관특별약관의 내용을 따릅니다\\n(\\n, \\n)\\n.'),\n",
       " Document(metadata={'producer': 'doPDF Ver 7.3 Build 391 (unknown Windows version - Version: 10.0.19042 (x64))', 'creator': '', 'creationdate': '2022-01-11T13:10:59+09:00', 'source': './hanwha_apt_security_product.pdf', 'file_path': './hanwha_apt_security_product.pdf', 'total_pages': 6, 'format': 'PDF 1.5', 'title': '', 'author': '', 'subject': '', 'keywords': '', 'moddate': '', 'trapped': '', 'page': 3}, page_content='확인필제\\n전사\\n-\\n2022-100016-\\n(2022.01.10~2023.01.09)\\n- 4 -\\n나\\n보험금 지급제한사항\\n-2. \\n\\n\\n실손보상 보장은 동일한 위험을 보장하는 다수의 보험계약이 체결되어 있는 경우보험약관에 따라 비례보상합니다\\n- \\n, \\n\\n\\n.\\n\\n\\n다수계약이란?\\n\\n\\n\\n\\n다수계약에 해당하는 보험종목은 제보험의 상해\\n질병\\n간병보험 및 손해보험의 종합\\n장기손해\\n개인연금\\n퇴직보험\\n3\\n·\\n·\\n·\\n·\\n·\\n을 의미합니다.\\n\\n\\n보험금을 지급하지 않는 사유 등 보험약관의 내용에 따라 보험금의 지급이 제한될 수 있습니다\\n- \\n.'),\n",
       " Document(metadata={'producer': 'doPDF Ver 7.3 Build 391 (unknown Windows version - Version: 10.0.19042 (x64))', 'creator': '', 'creationdate': '2022-01-11T13:10:59+09:00', 'source': './hanwha_apt_security_product.pdf', 'file_path': './hanwha_apt_security_product.pdf', 'total_pages': 6, 'format': 'PDF 1.5', 'title': '', 'author': '', 'subject': '', 'keywords': '', 'moddate': '', 'trapped': '', 'page': 3}, page_content='보험금을 지급하지 않는 사유 등 보험약관의 내용에 따라 보험금의 지급이 제한될 수 있습니다\\n- \\n.\\n\\n\\n회사의 계약의 청약을 승낙하고 제회 보험료를 받은 때자동이체납입 및 신용카드납입의 경우 자동이체신청 및 신용\\n- \\n1\\n(\\n카드 매출 승인에 필요한 정보를 제공한 때다만계약자의 책임있는 사유로 보험료 납입 및 승인이 불가능한 경우는 \\n(\\n, \\n제외부터 약관이 정한 바에 따라 보장을 합니다\\n)\\n.\\n\\n\\n다보험료산출기초 및 공시이율\\n. \\n\\n\\n다\\n보험료의 구성\\n-1.'),\n",
       " Document(metadata={'producer': 'doPDF Ver 7.3 Build 391 (unknown Windows version - Version: 10.0.19042 (x64))', 'creator': '', 'creationdate': '2022-01-11T13:10:59+09:00', 'source': './hanwha_apt_security_product.pdf', 'file_path': './hanwha_apt_security_product.pdf', 'total_pages': 6, 'format': 'PDF 1.5', 'title': '', 'author': '', 'subject': '', 'keywords': '', 'moddate': '', 'trapped': '', 'page': 3}, page_content='다보험료산출기초 및 공시이율\\n. \\n\\n\\n다\\n보험료의 구성\\n-1.\\n\\n\\n\\n\\n보험계약자가 납입하는 보험료는 보험사고 발생시 보험금지급을 위한 위험보험료만기 시 환급금을 지급하기 위한 적립\\n, \\n보험료보험회사의 사업경비를 위한 부가보험료 등으로 구성됩니다\\n, \\n.\\n\\n\\n다\\n적용이율\\n-2. \\n\\n\\n보장부분 적용이율이란?'),\n",
       " Document(metadata={'producer': 'doPDF Ver 7.3 Build 391 (unknown Windows version - Version: 10.0.19042 (x64))', 'creator': '', 'creationdate': '2022-01-11T13:10:59+09:00', 'source': './hanwha_apt_security_product.pdf', 'file_path': './hanwha_apt_security_product.pdf', 'total_pages': 6, 'format': 'PDF 1.5', 'title': '', 'author': '', 'subject': '', 'keywords': '', 'moddate': '', 'trapped': '', 'page': 3}, page_content='다\\n보험료의 구성\\n-1.\\n\\n\\n\\n\\n보험계약자가 납입하는 보험료는 보험사고 발생시 보험금지급을 위한 위험보험료만기 시 환급금을 지급하기 위한 적립\\n, \\n보험료보험회사의 사업경비를 위한 부가보험료 등으로 구성됩니다\\n, \\n.\\n\\n\\n다\\n적용이율\\n-2. \\n\\n\\n보장부분 적용이율이란?\\n\\n\\n보험료를 납입하는 시점과 보험금 지급사이에는 시차가 발생하므로 이 기간 동안 기대되는 수익을 미리 예상하여 일\\n정한 비율로 보험료를 할인해 주는데 이 할인율을 보장부분 적용이율이라고 합니다일반적으로 보장부분 적용이율\\n“\\n”\\n.'),\n",
       " Document(metadata={'producer': 'doPDF Ver 7.3 Build 391 (unknown Windows version - Version: 10.0.19042 (x64))', 'creator': '', 'creationdate': '2022-01-11T13:10:59+09:00', 'source': './hanwha_apt_security_product.pdf', 'file_path': './hanwha_apt_security_product.pdf', 'total_pages': 6, 'format': 'PDF 1.5', 'title': '', 'author': '', 'subject': '', 'keywords': '', 'moddate': '', 'trapped': '', 'page': 3}, page_content='다\\n적용이율\\n-2. \\n\\n\\n보장부분 적용이율이란?\\n\\n\\n보험료를 납입하는 시점과 보험금 지급사이에는 시차가 발생하므로 이 기간 동안 기대되는 수익을 미리 예상하여 일\\n정한 비율로 보험료를 할인해 주는데 이 할인율을 보장부분 적용이율이라고 합니다일반적으로 보장부분 적용이율\\n“\\n”\\n. \\n\\n\\n이 높으면 보험료는 내려가고낮아지면 보험료는 올라갑니다\\n, \\n\\n\\n.\\n\\n\\n\\n\\n적립부분 적용이율보장성보험 공시이율\\n이란\\n(\\n)\\n?'),\n",
       " Document(metadata={'producer': 'doPDF Ver 7.3 Build 391 (unknown Windows version - Version: 10.0.19042 (x64))', 'creator': '', 'creationdate': '2022-01-11T13:10:59+09:00', 'source': './hanwha_apt_security_product.pdf', 'file_path': './hanwha_apt_security_product.pdf', 'total_pages': 6, 'format': 'PDF 1.5', 'title': '', 'author': '', 'subject': '', 'keywords': '', 'moddate': '', 'trapped': '', 'page': 3}, page_content='이 높으면 보험료는 내려가고낮아지면 보험료는 올라갑니다\\n, \\n\\n\\n.\\n\\n\\n\\n\\n적립부분 적용이율보장성보험 공시이율\\n이란\\n(\\n)\\n?\\n\\n\\n\\n\\nⅤ\\n적립부분 적용이율공시이율이란 보험회사가 장래 보험금 지급을 위하여 계약자의 납입보험료의 일정부분을 적립해 \\n(\\n)\\n나가는데이 적립금을 적립하는 이율을 의미합니다\\n, \\n.\\n최저보증이율이란?\\n\\n\\n회사의 운용자산이익률 및 시중금리가 하락하더라도 회사에서 지급을 보증하는 최저한도의 적용이율입니다.\\n\\n\\n이 상품의 보장부분 적용이율은 연복리 \\n입니다\\n- \\n2.25%\\n.'),\n",
       " Document(metadata={'producer': 'doPDF Ver 7.3 Build 391 (unknown Windows version - Version: 10.0.19042 (x64))', 'creator': '', 'creationdate': '2022-01-11T13:10:59+09:00', 'source': './hanwha_apt_security_product.pdf', 'file_path': './hanwha_apt_security_product.pdf', 'total_pages': 6, 'format': 'PDF 1.5', 'title': '', 'author': '', 'subject': '', 'keywords': '', 'moddate': '', 'trapped': '', 'page': 3}, page_content='회사의 운용자산이익률 및 시중금리가 하락하더라도 회사에서 지급을 보증하는 최저한도의 적용이율입니다.\\n\\n\\n이 상품의 보장부분 적용이율은 연복리 \\n입니다\\n- \\n2.25%\\n.\\n\\n\\n이 상품의 적립부분 적용이율은 보장성보험 공시이율\\n로 하며\\n년 월 현재 연복리 \\n입니다\\n- \\n, 2022\\n1\\n1.4%\\n.'),\n",
       " Document(metadata={'producer': 'doPDF Ver 7.3 Build 391 (unknown Windows version - Version: 10.0.19042 (x64))', 'creator': '', 'creationdate': '2022-01-11T13:10:59+09:00', 'source': './hanwha_apt_security_product.pdf', 'file_path': './hanwha_apt_security_product.pdf', 'total_pages': 6, 'format': 'PDF 1.5', 'title': '', 'author': '', 'subject': '', 'keywords': '', 'moddate': '', 'trapped': '', 'page': 3}, page_content='이 상품의 보장부분 적용이율은 연복리 \\n입니다\\n- \\n2.25%\\n.\\n\\n\\n이 상품의 적립부분 적용이율은 보장성보험 공시이율\\n로 하며\\n년 월 현재 연복리 \\n입니다\\n- \\n, 2022\\n1\\n1.4%\\n.\\n\\n\\nⅤ\\n무배당 한화 \\n아파트가정종합보험\\n은 객관적인 외부지표금리와 운용자산이익률\\n을 가중평균하여 산출된 \\n- “\\n3700 \\n2101”\\n*\\n**\\n공시기준이율에서 향후 예상수익 등을 고려하여 매월 회사가 결정하는 공시이율에 연동되는 상품이며보장성보험 공\\n, \\n시이율\\n가 변동될 경우 이 상품의 적립부분 적용이율도 변동됩니다.'),\n",
       " Document(metadata={'producer': 'doPDF Ver 7.3 Build 391 (unknown Windows version - Version: 10.0.19042 (x64))', 'creator': '', 'creationdate': '2022-01-11T13:10:59+09:00', 'source': './hanwha_apt_security_product.pdf', 'file_path': './hanwha_apt_security_product.pdf', 'total_pages': 6, 'format': 'PDF 1.5', 'title': '', 'author': '', 'subject': '', 'keywords': '', 'moddate': '', 'trapped': '', 'page': 3}, page_content='Ⅴ\\n외부지표금리는 국고채회사채통화안정증권양도성예금증서 등을 고려하여 산출\\n  * \\n, \\n, \\n, \\n운용자산이익률은 직전 \\n개월간의 운용자산에 대한 투자영업수익과 투자영업비용 등을 고려하여 산출\\n  ** \\n12\\n이 상품의 최저보증이율은 연복리 \\n입니다\\n- \\n0.3%\\n.\\n이에 대한 보다 자세한 내용은 인터넷 홈페이지 상품공시실에서 무배당 한화 \\n아파트가정종합보험\\n의 사업방\\n“\\n3700 \\n2101”\\n법서를 참조하시기 바랍니다.'),\n",
       " Document(metadata={'producer': 'doPDF Ver 7.3 Build 391 (unknown Windows version - Version: 10.0.19042 (x64))', 'creator': '', 'creationdate': '2022-01-11T13:10:59+09:00', 'source': './hanwha_apt_security_product.pdf', 'file_path': './hanwha_apt_security_product.pdf', 'total_pages': 6, 'format': 'PDF 1.5', 'title': '', 'author': '', 'subject': '', 'keywords': '', 'moddate': '', 'trapped': '', 'page': 4}, page_content='확인필제\\n전사\\n-\\n2022-100016-\\n(2022.01.10~2023.01.09)\\n\\n\\n- 5 -\\n다\\n적용위험률\\n-3. \\n\\n\\n적용위험률이란?\\n\\n\\n한 개인이 사망하거나 질병에 걸리는 등의 일정한 보험사고가 발생할 수 있는 확률을 예측한 것을 말합니다.\\n\\n\\n일반적으로 적용위험률이 높으면 보험료가 올라가고 낮으면 보험료는 내려갑니다.'),\n",
       " Document(metadata={'producer': 'doPDF Ver 7.3 Build 391 (unknown Windows version - Version: 10.0.19042 (x64))', 'creator': '', 'creationdate': '2022-01-11T13:10:59+09:00', 'source': './hanwha_apt_security_product.pdf', 'file_path': './hanwha_apt_security_product.pdf', 'total_pages': 6, 'format': 'PDF 1.5', 'title': '', 'author': '', 'subject': '', 'keywords': '', 'moddate': '', 'trapped': '', 'page': 4}, page_content='일반적으로 적용위험률이 높으면 보험료가 올라가고 낮으면 보험료는 내려갑니다.\\n\\n\\n적용위험률예시\\n<\\n>\\n아파트 급 기준\\n1\\n구분\\n적용위험률\\n화재손해 위험률\\n0.000058\\n재물담보 실손전환계수주택\\n(\\n)\\n104.9%\\n화재벌금 위험률\\n28\\n주택화재임시거주비\\n일이상위험률\\n(4\\n) \\n0.001902\\n대가전제품고장수리비용\\n사고당 자기부담금 만원연간\\n만원한도\\n12\\n(1\\n2\\n, \\n100\\n) \\n0.024050\\n다\\n계약체결비용 및 계약관리비용\\n-4. \\n\\n\\n계약체결비용 및 계약관리비용이란?'),\n",
       " Document(metadata={'producer': 'doPDF Ver 7.3 Build 391 (unknown Windows version - Version: 10.0.19042 (x64))', 'creator': '', 'creationdate': '2022-01-11T13:10:59+09:00', 'source': './hanwha_apt_security_product.pdf', 'file_path': './hanwha_apt_security_product.pdf', 'total_pages': 6, 'format': 'PDF 1.5', 'title': '', 'author': '', 'subject': '', 'keywords': '', 'moddate': '', 'trapped': '', 'page': 4}, page_content='계약체결비용 및 계약관리비용이란?\\n\\n\\n보험회사가 보험계약의 체결유지 및 관리 등에 필요한 경비로 사용하기 위하여 보험료 중 일정비율을 책정한 것을 \\n, \\n말합니다.\\n\\n\\n라보험가격지수\\n. \\n\\n\\n보험가격지수란\\n \\n?\\n\\n\\n해당상품의 보험료총액보험금 지급을 위한 보험료 및 보험회사의 사업경비 등을 위한 보험료을 참조순보험료 총액과 \\n(\\n)\\n*\\n평균사업비총액\\n을 합한 금액으로 나눈 비율을 보험가격지수라고 합니다\\n**\\n“\\n”\\n.'),\n",
       " Document(metadata={'producer': 'doPDF Ver 7.3 Build 391 (unknown Windows version - Version: 10.0.19042 (x64))', 'creator': '', 'creationdate': '2022-01-11T13:10:59+09:00', 'source': './hanwha_apt_security_product.pdf', 'file_path': './hanwha_apt_security_product.pdf', 'total_pages': 6, 'format': 'PDF 1.5', 'title': '', 'author': '', 'subject': '', 'keywords': '', 'moddate': '', 'trapped': '', 'page': 4}, page_content='라보험가격지수\\n. \\n\\n\\n보험가격지수란\\n \\n?\\n\\n\\n해당상품의 보험료총액보험금 지급을 위한 보험료 및 보험회사의 사업경비 등을 위한 보험료을 참조순보험료 총액과 \\n(\\n)\\n*\\n평균사업비총액\\n을 합한 금액으로 나눈 비율을 보험가격지수라고 합니다\\n**\\n“\\n”\\n.\\n\\n\\n금융감독원이 정하는 평균공시이율 및 참조순보험요율을 적용하여 산출한 보험금 지급을 위한 보험료\\n* \\n상품군별로 손해보험상품 전체의 평균 사업비율을 반영하여 계산역산한 값\\n** \\n(\\n)\\n회사별상품별 비교\\n공시 \\n손해보험협회\\n/\\n: \\n(\\n※ \\n•\\nwww.knia.or.kr\\n상품비교'),\n",
       " Document(metadata={'producer': 'doPDF Ver 7.3 Build 391 (unknown Windows version - Version: 10.0.19042 (x64))', 'creator': '', 'creationdate': '2022-01-11T13:10:59+09:00', 'source': './hanwha_apt_security_product.pdf', 'file_path': './hanwha_apt_security_product.pdf', 'total_pages': 6, 'format': 'PDF 1.5', 'title': '', 'author': '', 'subject': '', 'keywords': '', 'moddate': '', 'trapped': '', 'page': 4}, page_content='금융감독원이 정하는 평균공시이율 및 참조순보험요율을 적용하여 산출한 보험금 지급을 위한 보험료\\n* \\n상품군별로 손해보험상품 전체의 평균 사업비율을 반영하여 계산역산한 값\\n** \\n(\\n)\\n회사별상품별 비교\\n공시 \\n손해보험협회\\n/\\n: \\n(\\n※ \\n•\\nwww.knia.or.kr\\n상품비교\\n\\n\\n공시실\\n참조\\n) “\\n·\\n” \\n보험가격지수(%)\\n기준\\n남자\\n여자\\n아파트 급\\n년만기 전기납월납\\n1\\n, 10\\n, \\n94.6\\n94.8\\n마계약자배당에 관한 사항\\n.'),\n",
       " Document(metadata={'producer': 'doPDF Ver 7.3 Build 391 (unknown Windows version - Version: 10.0.19042 (x64))', 'creator': '', 'creationdate': '2022-01-11T13:10:59+09:00', 'source': './hanwha_apt_security_product.pdf', 'file_path': './hanwha_apt_security_product.pdf', 'total_pages': 6, 'format': 'PDF 1.5', 'title': '', 'author': '', 'subject': '', 'keywords': '', 'moddate': '', 'trapped': '', 'page': 4}, page_content='공시실\\n참조\\n) “\\n·\\n” \\n보험가격지수(%)\\n기준\\n남자\\n여자\\n아파트 급\\n년만기 전기납월납\\n1\\n, 10\\n, \\n94.6\\n94.8\\n마계약자배당에 관한 사항\\n. \\n\\n\\n이 상품은 무배당상품으로서 배당을 하지 않습니다그러나 무배당 상품은 배당상품에 비해 보험료가 상대적으로 저렴하\\n. \\n\\n\\n다는 특징이 있습니다. \\n\\n\\n바해지환급금에 관한 사항\\n. \\n바\\n해지환급금 산출기준\\n-1. \\n\\n\\n회사는 금융감독원장이 인가한 산출기준에 따라 계산한 이 보험의 순보험료식 책임준비금에서 해지공제액을 공제한 금\\n- \\n액을 해지환급금으로 지급하여 드립니다.'),\n",
       " Document(metadata={'producer': 'doPDF Ver 7.3 Build 391 (unknown Windows version - Version: 10.0.19042 (x64))', 'creator': '', 'creationdate': '2022-01-11T13:10:59+09:00', 'source': './hanwha_apt_security_product.pdf', 'file_path': './hanwha_apt_security_product.pdf', 'total_pages': 6, 'format': 'PDF 1.5', 'title': '', 'author': '', 'subject': '', 'keywords': '', 'moddate': '', 'trapped': '', 'page': 5}, page_content='확인필제\\n전사\\n-\\n2022-100016-\\n(2022.01.10~2023.01.09)\\n- 6 -\\n바\\n해지환급금 예시\\n-2.'),\n",
       " Document(metadata={'producer': 'doPDF Ver 7.3 Build 391 (unknown Windows version - Version: 10.0.19042 (x64))', 'creator': '', 'creationdate': '2022-01-11T13:10:59+09:00', 'source': './hanwha_apt_security_product.pdf', 'file_path': './hanwha_apt_security_product.pdf', 'total_pages': 6, 'format': 'PDF 1.5', 'title': '', 'author': '', 'subject': '', 'keywords': '', 'moddate': '', 'trapped': '', 'page': 5}, page_content='가입기준 \\n아파트 급 \\n· \\n: \\n1\\n100\\ue0f1\\ue035\\n년만기 전기납월납보험료 \\n원\\n, 10\\n, \\n3,700\\n보장내역 \\n화재손해실손전부보상건물 억원가재도구 천만원건물복구비용지원화재주택\\n천만원\\n· \\n: \\n(\\n) \\n1\\n, \\n2\\n, \\n(\\n,\\n) 2\\n, \\n화재벌금실손\\n천만원\\n대가전제품고장수리비용실손\\n만원\\n(\\n) 2\\n, 12\\n(\\n) 100\\n, \\n임시거주비화재실손일이상주택\\n만원\\n(\\n,\\n,4\\n,\\n) 10\\n, \\n화재배상책임\\n대인\\n인당사망 및 후유장애 억천만원부상 천만원대물\\n사고당\\n억원\\n(1\\n) \\n1\\n5\\n/\\n3\\n, \\n(1\\n) 10\\nⅡ \\n경과기간별 해지환급금 예시표                                                               단위 \\n원\\n(\\n: \\n, %)\\n□ \\n구 분\\n납입보험료\\n해지환급금\\n최저보증이율\\n적용이율'),\n",
       " Document(metadata={'producer': 'doPDF Ver 7.3 Build 391 (unknown Windows version - Version: 10.0.19042 (x64))', 'creator': '', 'creationdate': '2022-01-11T13:10:59+09:00', 'source': './hanwha_apt_security_product.pdf', 'file_path': './hanwha_apt_security_product.pdf', 'total_pages': 6, 'format': 'PDF 1.5', 'title': '', 'author': '', 'subject': '', 'keywords': '', 'moddate': '', 'trapped': '', 'page': 5}, page_content='해지환급금\\n환급률(%)\\n평균공시이율\\n공시이율\\n해지환급금\\n환급률(%)\\n해지환급금\\n환급률(%)\\n년\\n1\\n44,400\\n0\\n0.0\\n0\\n0.0\\n0\\n0.0\\n년\\n2\\n88,800\\n0\\n0.0\\n0\\n0.0\\n0\\n0.0\\n년\\n3\\n133,200\\n0\\n0.0\\n0\\n0.0\\n0\\n0.0\\n년\\n4\\n177,600\\n2,500\\n1.4\\n2,757\\n1.5\\n2,757\\n1.5\\n년\\n5\\n222,000\\n8,393\\n3.7\\n8,796\\n3.9\\n8,796\\n3.9\\n만기\\n444,000\\n28,749\\n6.4\\n30,397\\n6.8\\n30,397\\n6.8\\n주\\n적용이율 해지환급금의 적립부분은 적립부분 순보험료를 공시이율보장성보험 공시이율\\n년 월 현재 연\\n) 1. \\n(\\n: 2022\\n1\\nⅤ \\n복리 \\n감독규정 제\\n조 제\\n호에 따른 평균공시이율\\n년 월 현재 \\n판매시점의 공시이율을 한\\n1.4%), \\n1-2\\n13\\n[2022\\n1\\n2.25%, \\n도로 함\\n년 월 현재 \\n적용을 기준으로 계산된 금액이며 실제 해지시에는 공시이율을 적용합니다\\n향\\n(2022\\n1\\n1.4% \\n)]\\n.'),\n",
       " Document(metadata={'producer': 'doPDF Ver 7.3 Build 391 (unknown Windows version - Version: 10.0.19042 (x64))', 'creator': '', 'creationdate': '2022-01-11T13:10:59+09:00', 'source': './hanwha_apt_security_product.pdf', 'file_path': './hanwha_apt_security_product.pdf', 'total_pages': 6, 'format': 'PDF 1.5', 'title': '', 'author': '', 'subject': '', 'keywords': '', 'moddate': '', 'trapped': '', 'page': 5}, page_content='후 보장성보험 공시이율\\n의 변동 또는 보험료 납입일 등에 따라 해지환급금은 증감될 수 있습니다.\\n\\n\\nⅤ\\n최저보증이율 해지환급금의 적립부분은 적립부분 순보험료를 경과기간에 따라 연복리 \\n를 적용하여 산출한 \\n    2. \\n0.3%\\n금액입니다.\\n\\n\\n상기 예시금액 중 해지환급금은 보장부분 해지환급금과 적립부분 해지환급금의 합계입니다\\n    3. \\n.\\n\\n\\n\\n\\n적립부분 순보험료는 적립보험료에서 적립부분에 해당하는 부가보험료를 제외한 보험료를 말합니다\\n    4. \\n.'),\n",
       " Document(metadata={'producer': 'doPDF Ver 7.3 Build 391 (unknown Windows version - Version: 10.0.19042 (x64))', 'creator': '', 'creationdate': '2022-01-11T13:10:59+09:00', 'source': './hanwha_apt_security_product.pdf', 'file_path': './hanwha_apt_security_product.pdf', 'total_pages': 6, 'format': 'PDF 1.5', 'title': '', 'author': '', 'subject': '', 'keywords': '', 'moddate': '', 'trapped': '', 'page': 5}, page_content='상기 예시금액 중 해지환급금은 보장부분 해지환급금과 적립부분 해지환급금의 합계입니다\\n    3. \\n.\\n\\n\\n\\n\\n적립부분 순보험료는 적립보험료에서 적립부분에 해당하는 부가보험료를 제외한 보험료를 말합니다\\n    4. \\n.\\n\\n\\n가입 후 \\n년 이내에 해지시 해지환급금이 기납입보험료보다 큰 경우 그 차액에 대하여 이자소득세가 부과될\\n\\n수 \\n    5. \\n\\n\\n10\\n있습니다.'),\n",
       " Document(metadata={'producer': 'doPDF Ver 7.3 Build 391 (unknown Windows version - Version: 10.0.19042 (x64))', 'creator': '', 'creationdate': '2022-01-11T13:10:59+09:00', 'source': './hanwha_apt_security_product.pdf', 'file_path': './hanwha_apt_security_product.pdf', 'total_pages': 6, 'format': 'PDF 1.5', 'title': '', 'author': '', 'subject': '', 'keywords': '', 'moddate': '', 'trapped': '', 'page': 5}, page_content='적립부분 순보험료는 적립보험료에서 적립부분에 해당하는 부가보험료를 제외한 보험료를 말합니다\\n    4. \\n.\\n\\n\\n가입 후 \\n년 이내에 해지시 해지환급금이 기납입보험료보다 큰 경우 그 차액에 대하여 이자소득세가 부과될\\n\\n수 \\n    5. \\n\\n\\n10\\n있습니다.\\n\\n\\n\\n\\n중도인출시 인출금액 및 인출금액에 적립되는 이자만큼 만기해지환급금에서 차감하여 지급하므로 만기해지환급\\n    6. \\n(\\n)\\n(\\n)\\n금이 현저하게 감소할 수 있습니다.'),\n",
       " Document(metadata={'producer': 'doPDF Ver 7.3 Build 391 (unknown Windows version - Version: 10.0.19042 (x64))', 'creator': '', 'creationdate': '2022-01-11T13:10:59+09:00', 'source': './hanwha_apt_security_product.pdf', 'file_path': './hanwha_apt_security_product.pdf', 'total_pages': 6, 'format': 'PDF 1.5', 'title': '', 'author': '', 'subject': '', 'keywords': '', 'moddate': '', 'trapped': '', 'page': 5}, page_content='가입 후 \\n년 이내에 해지시 해지환급금이 기납입보험료보다 큰 경우 그 차액에 대하여 이자소득세가 부과될\\n\\n수 \\n    5. \\n\\n\\n10\\n있습니다.\\n\\n\\n\\n\\n중도인출시 인출금액 및 인출금액에 적립되는 이자만큼 만기해지환급금에서 차감하여 지급하므로 만기해지환급\\n    6. \\n(\\n)\\n(\\n)\\n금이 현저하게 감소할 수 있습니다.\\n\\n\\n\\n\\n평균공시이율은 감독원장이 정하는 바에 따라 산정한 전체 보험회사 공시이율의 평균으로전년도 월말 기준 직\\n    7. \\n, \\n9\\n전 \\n개월간 보험회사 평균공시이율을 말합니다\\n12\\n.'),\n",
       " Document(metadata={'producer': 'doPDF Ver 7.3 Build 391 (unknown Windows version - Version: 10.0.19042 (x64))', 'creator': '', 'creationdate': '2022-01-11T13:10:59+09:00', 'source': './hanwha_apt_security_product.pdf', 'file_path': './hanwha_apt_security_product.pdf', 'total_pages': 6, 'format': 'PDF 1.5', 'title': '', 'author': '', 'subject': '', 'keywords': '', 'moddate': '', 'trapped': '', 'page': 5}, page_content='중도인출시 인출금액 및 인출금액에 적립되는 이자만큼 만기해지환급금에서 차감하여 지급하므로 만기해지환급\\n    6. \\n(\\n)\\n(\\n)\\n금이 현저하게 감소할 수 있습니다.\\n\\n\\n\\n\\n평균공시이율은 감독원장이 정하는 바에 따라 산정한 전체 보험회사 공시이율의 평균으로전년도 월말 기준 직\\n    7. \\n, \\n9\\n전 \\n개월간 보험회사 평균공시이율을 말합니다\\n12\\n.\\n\\n\\n바\\n해지환급금이 적은 이유\\n-3.'),\n",
       " Document(metadata={'producer': 'doPDF Ver 7.3 Build 391 (unknown Windows version - Version: 10.0.19042 (x64))', 'creator': '', 'creationdate': '2022-01-11T13:10:59+09:00', 'source': './hanwha_apt_security_product.pdf', 'file_path': './hanwha_apt_security_product.pdf', 'total_pages': 6, 'format': 'PDF 1.5', 'title': '', 'author': '', 'subject': '', 'keywords': '', 'moddate': '', 'trapped': '', 'page': 5}, page_content='바\\n해지환급금이 적은 이유\\n-3. \\n\\n\\n손해보험상품은 은행의 저축과는 달리 위험보장과 저축기능을 겸한 제도로서 보험계약자가 납입한 보험료 중 일부는 불\\n의의 사고를 당한 다른 보험계약자에게 지급되는 보험금의 재원으로또 다른 일부는 보험회사 운영에 필요한 사업경비로 \\n, \\n사용되므로 중도해지시 지급되는 해지환급금은 납입한 보험료보다 적거나 없을 수도 있습니다.'),\n",
       " Document(metadata={'producer': 'doPDF Ver 7.3 Build 391 (unknown Windows version - Version: 10.0.19042 (x64))', 'creator': '', 'creationdate': '2022-01-11T13:10:59+09:00', 'source': './hanwha_apt_security_product.pdf', 'file_path': './hanwha_apt_security_product.pdf', 'total_pages': 6, 'format': 'PDF 1.5', 'title': '', 'author': '', 'subject': '', 'keywords': '', 'moddate': '', 'trapped': '', 'page': 5}, page_content='손해보험상품은 은행의 저축과는 달리 위험보장과 저축기능을 겸한 제도로서 보험계약자가 납입한 보험료 중 일부는 불\\n의의 사고를 당한 다른 보험계약자에게 지급되는 보험금의 재원으로또 다른 일부는 보험회사 운영에 필요한 사업경비로 \\n, \\n사용되므로 중도해지시 지급되는 해지환급금은 납입한 보험료보다 적거나 없을 수도 있습니다.\\n\\n\\n이 상품요약서는 무배당 한화 \\n아파트가정종합보험\\n의 주요내용을 요약 발췌한 것이므로 기타 자세한 \\n3700 \\n2101\\n사항은 해당약관보통약관특별약관의 내용을 따릅니다\\n(\\n, \\n)\\n.')]"
      ]
     },
     "execution_count": 9,
     "metadata": {},
     "output_type": "execute_result"
    }
   ],
   "source": [
    "splitted_documents"
   ]
  },
  {
   "cell_type": "code",
   "execution_count": 11,
   "metadata": {},
   "outputs": [
    {
     "name": "stderr",
     "output_type": "stream",
     "text": [
      "Created a chunk of size 344, which is longer than the specified 300\n",
      "Created a chunk of size 459, which is longer than the specified 300\n",
      "Created a chunk of size 1314, which is longer than the specified 300\n",
      "Created a chunk of size 715, which is longer than the specified 300\n",
      "Created a chunk of size 303, which is longer than the specified 300\n",
      "Created a chunk of size 418, which is longer than the specified 300\n",
      "Created a chunk of size 932, which is longer than the specified 300\n"
     ]
    }
   ],
   "source": [
    "#pip install langchain konlpy\n",
    "from langchain.text_splitter import KonlpyTextSplitter\n",
    "splitter = KonlpyTextSplitter(\n",
    "    chunk_size=300\n",
    ")\n",
    "\n",
    "chunks = splitter.split_documents(documents)"
   ]
  },
  {
   "cell_type": "code",
   "execution_count": 12,
   "metadata": {},
   "outputs": [
    {
     "data": {
      "text/plain": [
       "[Document(metadata={'producer': 'doPDF Ver 7.3 Build 391 (unknown Windows version - Version: 10.0.19042 (x64))', 'creator': '', 'creationdate': '2022-01-11T13:10:59+09:00', 'source': './hanwha_apt_security_product.pdf', 'file_path': './hanwha_apt_security_product.pdf', 'total_pages': 6, 'format': 'PDF 1.5', 'title': '', 'author': '', 'subject': '', 'keywords': '', 'moddate': '', 'trapped': '', 'page': 0}, page_content='확인 필제 전사 - 2022-100016- (2022.01 .10 ~2023.01 .09) - 1 - 무배당 한화 아파트가 정종합보험 상품 요약서 무배당 한화 아파트가 정종합보험 상품 요약서 무배당 한화 아파트가 정종합보험 상품 요약서 무배당 한화 아파트가 정종합보험 상품 요약서 무배당 한화 아파트가 정종합보험 상품 요약서 무배당 한화 아파트가 정종합보험 상품 요약서 3700 2101 3700 2101 3700 2101 3700 2101 3700 2101 3700 2101 무배당 한화 아파트가 정종합보험 상품 요약서 3700 2101 Q & A 【 】 Q & A 【 】 주택 물건 중 특수건물은 어떤 건물인가요'),\n",
       " Document(metadata={'producer': 'doPDF Ver 7.3 Build 391 (unknown Windows version - Version: 10.0.19042 (x64))', 'creator': '', 'creationdate': '2022-01-11T13:10:59+09:00', 'source': './hanwha_apt_security_product.pdf', 'file_path': './hanwha_apt_security_product.pdf', 'total_pages': 6, 'format': 'PDF 1.5', 'title': '', 'author': '', 'subject': '', 'keywords': '', 'moddate': '', 'trapped': '', 'page': 0}, page_content='Q. ? 주택 물건 중 특수건물은 층 이상의 아파트 및 부속건물을 말합니다\\n\\n16 . ▶ 보험 가액 산정은 어떻게 하나요 Q. ? 가 평가 대상 건물과 똑같은 구조규모 용도의 건물을 짓는데 필요한 가액에서 경과 기간에 따른 감가 상각 분을 공제하여 . , , 현재 가액을 산출합니다.\\n\\n나 건물에 대한 감정 평가서가 있을 때에는 평가액을 가액으로 합니다 . .\\n\\n임시 거주 비화 재실 손 일이상주택보장의 보장내용 및 기간은 어떻게 되나요'),\n",
       " Document(metadata={'producer': 'doPDF Ver 7.3 Build 391 (unknown Windows version - Version: 10.0.19042 (x64))', 'creator': '', 'creationdate': '2022-01-11T13:10:59+09:00', 'source': './hanwha_apt_security_product.pdf', 'file_path': './hanwha_apt_security_product.pdf', 'total_pages': 6, 'format': 'PDF 1.5', 'title': '', 'author': '', 'subject': '', 'keywords': '', 'moddate': '', 'trapped': '', 'page': 0}, page_content='나 건물에 대한 감정 평가서가 있을 때에는 평가액을 가액으로 합니다 . .\\n\\n임시 거주 비화 재실 손 일이상주택보장의 보장내용 및 기간은 어떻게 되나요\\n\\nQ. ( , ,4 , ) ? 가 보험목적이 약관에서 정한 손해를 입었을 경우 사고마다 손해발생 후 일째부터 일당 만원을 한도로 피보험자 . 1 4 1 10 가 본인 및 본인과 생계를 같이 하고 보험목적의 주민등록상 동거 중인 가족을 위해 복구기간 내 임시 거주기간 동안 “ ” 숙박시설 또는 음식점에서 실제로 지출한 숙박비 및 식대를 임시 거주 비로 지급합니다.'),\n",
       " Document(metadata={'producer': 'doPDF Ver 7.3 Build 391 (unknown Windows version - Version: 10.0.19042 (x64))', 'creator': '', 'creationdate': '2022-01-11T13:10:59+09:00', 'source': './hanwha_apt_security_product.pdf', 'file_path': './hanwha_apt_security_product.pdf', 'total_pages': 6, 'format': 'PDF 1.5', 'title': '', 'author': '', 'subject': '', 'keywords': '', 'moddate': '', 'trapped': '', 'page': 0}, page_content='나 복구기간이 추정 복구기간 또는 약정 복구기간을 초과하는 경우 복구기간 내 임시 거주기간은 추정 복구기간과 약 정복 . “ ” 구기 간 내 임시 거주기간 중 짧은 기간으로 하며 면책기간 손해가 발생한 때부터 최초 일까지 동안 발생한 임시 거 , ( 3 ) 주비에 대하여는 보상하지 않습니다.'),\n",
       " Document(metadata={'producer': 'doPDF Ver 7.3 Build 391 (unknown Windows version - Version: 10.0.19042 (x64))', 'creator': '', 'creationdate': '2022-01-11T13:10:59+09:00', 'source': './hanwha_apt_security_product.pdf', 'file_path': './hanwha_apt_security_product.pdf', 'total_pages': 6, 'format': 'PDF 1.5', 'title': '', 'author': '', 'subject': '', 'keywords': '', 'moddate': '', 'trapped': '', 'page': 0}, page_content='보험금 지급 예시 [ ] 약정 복구기간 일 90 면책기간 일 (3 ) 복구기간 내 임시 거주기간에 대해 “ ” 임시 거주 비를 일 한도로 지급 87 사고 발생 용어의 정의 [ ] 면책기간 회사가 손해를 보상하지 않는 기간으로 보험목적이 손해를 입었던 때부터 최초 일입니다\\n\\n1. : , 3 . 약정 복구기간 회사와 피보험자가 약정한 최대 복구기간으로 보험목적이 손해를 입었던 때로부터 일간을 말합니다\\n\\n2. : , 90 . 추정 복구기간 보험목적을 손해발생 직전의 상태로 복구하기 위하여 통상적으로 필요 하다고 인정되는 기간을 말합니다'),\n",
       " Document(metadata={'producer': 'doPDF Ver 7.3 Build 391 (unknown Windows version - Version: 10.0.19042 (x64))', 'creator': '', 'creationdate': '2022-01-11T13:10:59+09:00', 'source': './hanwha_apt_security_product.pdf', 'file_path': './hanwha_apt_security_product.pdf', 'total_pages': 6, 'format': 'PDF 1.5', 'title': '', 'author': '', 'subject': '', 'keywords': '', 'moddate': '', 'trapped': '', 'page': 0}, page_content='1. : , 3 . 약정 복구기간 회사와 피보험자가 약정한 최대 복구기간으로 보험목적이 손해를 입었던 때로부터 일간을 말합니다\\n\\n2. : , 90 . 추정 복구기간 보험목적을 손해발생 직전의 상태로 복구하기 위하여 통상적으로 필요 하다고 인정되는 기간을 말합니다\\n\\n3. : . 복구기간 보험금 지급대상이 되는 기간으로 보험목적이 손해를 입은 때로부터 지체 없이 이를 복구할 때까지 필요한 기간을 4. : 말합니다'),\n",
       " Document(metadata={'producer': 'doPDF Ver 7.3 Build 391 (unknown Windows version - Version: 10.0.19042 (x64))', 'creator': '', 'creationdate': '2022-01-11T13:10:59+09:00', 'source': './hanwha_apt_security_product.pdf', 'file_path': './hanwha_apt_security_product.pdf', 'total_pages': 6, 'format': 'PDF 1.5', 'title': '', 'author': '', 'subject': '', 'keywords': '', 'moddate': '', 'trapped': '', 'page': 0}, page_content='2. : , 90 . 추정 복구기간 보험목적을 손해발생 직전의 상태로 복구하기 위하여 통상적으로 필요 하다고 인정되는 기간을 말합니다\\n\\n3. : . 복구기간 보험금 지급대상이 되는 기간으로 보험목적이 손해를 입은 때로부터 지체 없이 이를 복구할 때까지 필요한 기간을 4. : 말합니다\\n\\n또 한 법령의 규제 등 부득이 한 사유로 인하여 보험목적을 복구하지 않을 경우에는 추정 복구기간을 . 복구기간으로 인정합니다'),\n",
       " Document(metadata={'producer': 'doPDF Ver 7.3 Build 391 (unknown Windows version - Version: 10.0.19042 (x64))', 'creator': '', 'creationdate': '2022-01-11T13:10:59+09:00', 'source': './hanwha_apt_security_product.pdf', 'file_path': './hanwha_apt_security_product.pdf', 'total_pages': 6, 'format': 'PDF 1.5', 'title': '', 'author': '', 'subject': '', 'keywords': '', 'moddate': '', 'trapped': '', 'page': 0}, page_content='3. : . 복구기간 보험금 지급대상이 되는 기간으로 보험목적이 손해를 입은 때로부터 지체 없이 이를 복구할 때까지 필요한 기간을 4. : 말합니다\\n\\n또 한 법령의 규제 등 부득이 한 사유로 인하여 보험목적을 복구하지 않을 경우에는 추정 복구기간을 . 복구기간으로 인정합니다\\n\\n그러나 어떠한 경우에도 복구기간은 추정 복구기간이나 약정 복구기간을 초과할 수 없으며 . , 복구기간에 대한 판단은 회사의 동의를 받아야 합니다.\\n\\n건물 복구비용지원 화재주택 특별 약관의 보장내용은 어떻게 되나요'),\n",
       " Document(metadata={'producer': 'doPDF Ver 7.3 Build 391 (unknown Windows version - Version: 10.0.19042 (x64))', 'creator': '', 'creationdate': '2022-01-11T13:10:59+09:00', 'source': './hanwha_apt_security_product.pdf', 'file_path': './hanwha_apt_security_product.pdf', 'total_pages': 6, 'format': 'PDF 1.5', 'title': '', 'author': '', 'subject': '', 'keywords': '', 'moddate': '', 'trapped': '', 'page': 0}, page_content='그러나 어떠한 경우에도 복구기간은 추정 복구기간이나 약정 복구기간을 초과할 수 없으며 . , 복구기간에 대한 판단은 회사의 동의를 받아야 합니다.\\n\\n건물 복구비용지원 화재주택 특별 약관의 보장내용은 어떻게 되나요\\n\\nQ. ( , ) ? 보험목적이 약관에서 정한 화재 손해를 입어 해당 보험목적을 수리 또는 복구하였을 때 손해가 생긴 때와 곳에서의 , ▶ 보험목적의 재조달 가액 주 1) 과 보험 가액 주 2)에 따라 각각 계산한 손해액의 차이 이하 재조달 차액이라 합 니 다를 보상 합 ( “ ” ) 니다.'),\n",
       " Document(metadata={'producer': 'doPDF Ver 7.3 Build 391 (unknown Windows version - Version: 10.0.19042 (x64))', 'creator': '', 'creationdate': '2022-01-11T13:10:59+09:00', 'source': './hanwha_apt_security_product.pdf', 'file_path': './hanwha_apt_security_product.pdf', 'total_pages': 6, 'format': 'PDF 1.5', 'title': '', 'author': '', 'subject': '', 'keywords': '', 'moddate': '', 'trapped': '', 'page': 0}, page_content='건물 복구비용지원 화재주택 특별 약관의 보장내용은 어떻게 되나요\\n\\nQ. ( , ) ? 보험목적이 약관에서 정한 화재 손해를 입어 해당 보험목적을 수리 또는 복구하였을 때 손해가 생긴 때와 곳에서의 , ▶ 보험목적의 재조달 가액 주 1) 과 보험 가액 주 2)에 따라 각각 계산한 손해액의 차이 이하 재조달 차액이라 합 니 다를 보상 합 ( “ ” ) 니다.\\n\\n주 보험목적과 동형 동질의 신품을 재조달하는데 소요되는 금액을 말합니다\\n\\n1) · . 주 재조달 가액에서 기간 경과에 따른 감가 상각을 반영한 시가로 계산된 금액을 말합니다'),\n",
       " Document(metadata={'producer': 'doPDF Ver 7.3 Build 391 (unknown Windows version - Version: 10.0.19042 (x64))', 'creator': '', 'creationdate': '2022-01-11T13:10:59+09:00', 'source': './hanwha_apt_security_product.pdf', 'file_path': './hanwha_apt_security_product.pdf', 'total_pages': 6, 'format': 'PDF 1.5', 'title': '', 'author': '', 'subject': '', 'keywords': '', 'moddate': '', 'trapped': '', 'page': 0}, page_content='1) · . 주 재조달 가액에서 기간 경과에 따른 감가 상각을 반영한 시가로 계산된 금액을 말합니다\\n\\n2) . 보험 가액 재조달 가액 및 재조달 차액 [ , ] 가 ( ) 물가상승 등으로 재조달 가액 변동 신축 시점의 가액 사고 시점의 재조달 가액 가 재조달 가액으로 계산한 손해액 ( ) : 감가 상각으로 보험 가액 변동 나 ( ) 신축 시점의 가액 사고 시점의 보험 가액 나 보험 가액으로 계산한 손해액 ( ) : 이 특별 약관에서 보상하는 손해 재조달 차액 가 나 : “ ” = ( ) - ( )'),\n",
       " Document(metadata={'producer': 'doPDF Ver 7.3 Build 391 (unknown Windows version - Version: 10.0.19042 (x64))', 'creator': '', 'creationdate': '2022-01-11T13:10:59+09:00', 'source': './hanwha_apt_security_product.pdf', 'file_path': './hanwha_apt_security_product.pdf', 'total_pages': 6, 'format': 'PDF 1.5', 'title': '', 'author': '', 'subject': '', 'keywords': '', 'moddate': '', 'trapped': '', 'page': 1}, page_content='확인 필제 전사 - 2022-100016- (2022.01 .10 ~2023.01 .09) - 2 - 가가 입자격제한 등 상품별 특이사항 . 가 가입자격제한 -1. 이 상품은 주택 소유자 또는 주택 임차 자를 위한 보험입니다\\n\\n단 신계약 체결 시 아파트 주택 물건에 한하여 가입할 - . , 수 있습니다.\\n\\n이 상품은 보험목적의 주변환경 위험정도 물건의 급수 및 기타사항으로 인해 보험 가입금액이 제한되거나 인수가 불가 - , , 능할 수 있습니다.'),\n",
       " Document(metadata={'producer': 'doPDF Ver 7.3 Build 391 (unknown Windows version - Version: 10.0.19042 (x64))', 'creator': '', 'creationdate': '2022-01-11T13:10:59+09:00', 'source': './hanwha_apt_security_product.pdf', 'file_path': './hanwha_apt_security_product.pdf', 'total_pages': 6, 'format': 'PDF 1.5', 'title': '', 'author': '', 'subject': '', 'keywords': '', 'moddate': '', 'trapped': '', 'page': 1}, page_content='가 상품의 특이 사항 -2. 보험기간 보험료 납입기간 가입 나이 및 보험료 납입 주기에 관한 사항 1) , , 보험기간 보험료 납입기간 가입 나이 보험료 납입 주기 - , , , 구 분 보험기간 납입기간 가입 나이 납입 주기 보통 약관 화재 벌금 실 손 ( ), 대가 전제품 고장수리비용 실 손 12 ( ), 화재 손해 실 손 전부 보상 ( ), 임시 거주 비화 재실 손 일이상주택 ( , ,4 , ) 년 5 전기 납 만 세 세 19 ~80 월 납 년 10 전기 납 특별 약관 화재배상책임 , Ⅱ 특수건물 신체 손해배상책임 (1710), 특수건물 화재 대물 배상책임 (1710), 건물 복구비용지원 화재주택 ( , ) 년 5 전기 납 만 세 세 19 ~80 월 납 년 10 전기 납 회사가 정하는 기준에 따라 직무 영위업종 및 보험목적의 상태 등에 의해 보험 가입 금액이 제한되거나 가입이 불 , ※ 가능할 수 있습니다.'),\n",
       " Document(metadata={'producer': 'doPDF Ver 7.3 Build 391 (unknown Windows version - Version: 10.0.19042 (x64))', 'creator': '', 'creationdate': '2022-01-11T13:10:59+09:00', 'source': './hanwha_apt_security_product.pdf', 'file_path': './hanwha_apt_security_product.pdf', 'total_pages': 6, 'format': 'PDF 1.5', 'title': '', 'author': '', 'subject': '', 'keywords': '', 'moddate': '', 'trapped': '', 'page': 1}, page_content='가입제한에 관한 사항 2) 특수건물 신체 손해배상책임 특별 약관과 특수건물 화재 대물 배상책임 특별 약관은 동시에 가입하여야 합 니 - (1710) (1710) 다.\\n\\n하나의 보험목적에 대해 특수건물 신체 손해배상책임 특별 약관 및 특수건물 화재 대물 배상책임 특별 약관은 - (1710) (1710) 화재배상책임 특별 약관과 동시에 가입할 수 없습니다.\\n\\nⅡ 특수건물 신체 손해배상책임 특별 약관과 특수건물 화재 대물 배상책임 특별 약관은 특수건물에 한하여 가입 - (1710) (1710) 할 수 있습니다.'),\n",
       " Document(metadata={'producer': 'doPDF Ver 7.3 Build 391 (unknown Windows version - Version: 10.0.19042 (x64))', 'creator': '', 'creationdate': '2022-01-11T13:10:59+09:00', 'source': './hanwha_apt_security_product.pdf', 'file_path': './hanwha_apt_security_product.pdf', 'total_pages': 6, 'format': 'PDF 1.5', 'title': '', 'author': '', 'subject': '', 'keywords': '', 'moddate': '', 'trapped': '', 'page': 1}, page_content='Ⅱ 특수건물 신체 손해배상책임 특별 약관과 특수건물 화재 대물 배상책임 특별 약관은 특수건물에 한하여 가입 - (1710) (1710) 할 수 있습니다.\\n\\n만기 환급금에 관한 사항 3) 회사는 보험기간이 끝난 때에 적립부분 순 보험료에 대하여 보험료 납입 일회사에 입금된 날을 말합 니다부터 보장 - * ( ) 성보험 공시 이율 로 보험료 및 책임 준비금 산출방법 서에 따라 계산한 금액을 만기 환급금으로 보험 수익자에게 지 Ⅴ 「 」 급합니다'),\n",
       " Document(metadata={'producer': 'doPDF Ver 7.3 Build 391 (unknown Windows version - Version: 10.0.19042 (x64))', 'creator': '', 'creationdate': '2022-01-11T13:10:59+09:00', 'source': './hanwha_apt_security_product.pdf', 'file_path': './hanwha_apt_security_product.pdf', 'total_pages': 6, 'format': 'PDF 1.5', 'title': '', 'author': '', 'subject': '', 'keywords': '', 'moddate': '', 'trapped': '', 'page': 1}, page_content='만기 환급금에 관한 사항 3) 회사는 보험기간이 끝난 때에 적립부분 순 보험료에 대하여 보험료 납입 일회사에 입금된 날을 말합 니다부터 보장 - * ( ) 성보험 공시 이율 로 보험료 및 책임 준비금 산출방법 서에 따라 계산한 금액을 만기 환급금으로 보험 수익자에게 지 Ⅴ 「 」 급합니다\\n\\n다만 이 약관에서 정한 대출금이 있을 때에는 그 대출원 금과 이자의 합계액을 빼고 지급합니다 . , .\\n\\n적립부분 순 보험료는 적립 보험료에서 적립부분에 해당하는 부가 보험료를 제외한 보험료를 말합니다\\n\\n* .'),\n",
       " Document(metadata={'producer': 'doPDF Ver 7.3 Build 391 (unknown Windows version - Version: 10.0.19042 (x64))', 'creator': '', 'creationdate': '2022-01-11T13:10:59+09:00', 'source': './hanwha_apt_security_product.pdf', 'file_path': './hanwha_apt_security_product.pdf', 'total_pages': 6, 'format': 'PDF 1.5', 'title': '', 'author': '', 'subject': '', 'keywords': '', 'moddate': '', 'trapped': '', 'page': 2}, page_content='확인 필제 전사 - 2022-100016- (2022.01 .10 ~2023.01 .09) - 3 - 나 보험금 지급 사유지급금액 및 지급제한 사항 . , 나 보험금 지급 사유 및 지급금액 -1. 구 분 지급 사유 지급액 보통 약관 화재 손해 실 손 전부 보상 ( ) 화재 폭발 파열 포함로 인해 건물 및 가재의 손해 및 소방 피난 손해가 발생한 경우 ( , ) · 보험 가입금액 한도 실 손 보상 잔존물 제거비용 화재로 잔존물 제거비용 발생 시 손해액의 한도 보상 10% 잔존물 제거비용 잔존물의 해체비용 청소비용 상차비용 차에 싣는 비용 단 화재 손해 보험금과 합산 : , , ( ) ( , ※ 하여 보험 가입금액을 초과할 수 없음) 대가 전제품 고장수리비용 실 손 12 ( ) 보험기간 중에 피보험자가 거주하는 주택 구내에 있는 대가 전제품에 고장이 발생하여 이를 수리하여 12 생긴 실제 수리비 계약 체결 일부터 일 이내에 수리하여 수리비가 발생한 손해 제외 ( 60 ) 대가 전제품 세탁기 냉장고 김치 냉장고 에어컨 전자 레인지 공기 청정기 청소기 식기 세척 12 : TV, , , , , , , , ※ 기의류 건조기 의류관리 기제 습기 , , , 해당 가전이 수리 불가 등으로 실제 수리비가 발생하지 않은 경우에는 보상하지 않음 ※ 수리란 해당 제품의 공식적인 국내 지정점에서 실제 수리하여 수리비를 지급한 경우를 말함 “ ” AS ※ 연간 보험 가입금액 만원한도 실 손 보상 (100 ) 자기 부담금 만원 ( :2 ) 화재 벌금 대한민국 내에서 벌금형의 원인이 되는 화재가 발생하고 형법 제 조 실화 혹은 동법 제 조업무 상 170 ( ) 171 ( 실화 중 실화에 따른 벌금 형이 확정된 경우 , ) 한도 내 실 손 보상 형법 제 조에 의한 벌금 만원 한도 170 : 1,500 형법 제 조에 의한 벌금 만원 한도 171 : 2,000 임시 거주 비화 재실 손 일이상주택 ( , ,4 , ) 보험목적에 화재 벼락 폭발 파열 포함로 직접 손해 소방 손해 피난 손해가 발생하여 보험목적 내에 거주 ( , , ) , , 할 수 없게 된 경우 피보험자 본인 및 본인과 생계를 같이 하고 보험목적의 주민등록상 동거 중인 가족을 위해 보험목적의 약관에서 정한 복구기간 내 임시 거주기간 동안 숙박시설 또는 음식점에서 지출한 비 “ ” 용을 보상 손해발생 후 일째부터 일당 4 1 보험 가입금액 한도로 실 손 보상 사고발생 일부터 일 한도 총 ( 90 , 일 한도 보상 가능 87 ) 특별 약관 화재배상책임Ⅱ 피보험자가 보험기간 중에 보험증권 상의 보장지역 내에서 피보험 자가 소유사용 또는 관리하는 보험목적 , 에 발생한 화재 폭발을 포함합니다'),\n",
       " Document(metadata={'producer': 'doPDF Ver 7.3 Build 391 (unknown Windows version - Version: 10.0.19042 (x64))', 'creator': '', 'creationdate': '2022-01-11T13:10:59+09:00', 'source': './hanwha_apt_security_product.pdf', 'file_path': './hanwha_apt_security_product.pdf', 'total_pages': 6, 'format': 'PDF 1.5', 'title': '', 'author': '', 'subject': '', 'keywords': '', 'moddate': '', 'trapped': '', 'page': 2}, page_content='로 인하여 피보험자가 타인의 신체 또는 재물에 대한 법률상의 손해 ( .) 배상책임을 부담하는 경우 대인 배상 피해자 사고 인 당 < 1 1 > 사망 억 만원한도 실 손 보상 · : 1 5,000 부상 만원한도 실 손 보상 · : 3,000 후 유 장해 억 만원한도 실 손 보상 · : 1 5,000 대물 배상 사고 당 < 1 > 보험 가입금액한도 실 손 보상 · 특수건물 신체 손해배상책임 (1710) 특수건물의 화재 폭발 및 파열로 타인이 사망하거나 부상함으로써 건물 소유자 손해배상책임에 따라 피보 , 험 자가 부담한 손해를 피해자 명당 관련 법령에서 정한 금액 한도로 약관에 따라 보상 1 피해자 사고 인 당 < 1 1 > 사망 억 만원 한도 실 손 보상 · : 1 5,000 부상 만원 한도 실 손 보상 · : 3,000 후 유 장해 억 만원한도 실 손 보상 · : 1 5,000 특수건물 화재 대물 배상책임 (1710) 특수건물의 화재 폭발 및 파열로 타인의 재물을 망가뜨려 건물 소유자 손해배상책임에 따라 피보험 자가 , 부담한 손해를 보험증권에 기재된 보상한도 액 한도로 약관에 따라 보상 사고 당 보상한도 액 한도 1 건물 복구비용지원 화재주택 ( , ) 보험목적에 화재 벼락 폭발 파열 포함 로 약관에서 정한 손해 발생 시 그 손해가 생긴 때와 곳에서의 보 ( , , ) 험 목적의 재조달 가액보험목적과 동형 동질의 신품을 재조달하는데 소요되는 금액을 말합니다'),\n",
       " Document(metadata={'producer': 'doPDF Ver 7.3 Build 391 (unknown Windows version - Version: 10.0.19042 (x64))', 'creator': '', 'creationdate': '2022-01-11T13:10:59+09:00', 'source': './hanwha_apt_security_product.pdf', 'file_path': './hanwha_apt_security_product.pdf', 'total_pages': 6, 'format': 'PDF 1.5', 'title': '', 'author': '', 'subject': '', 'keywords': '', 'moddate': '', 'trapped': '', 'page': 2}, page_content='과 보험가 ( · ) 액 재조달 가액에서 기간 경과에 따른 감가 상각을 반영한 시가로 계산된 금액을 말합 니다 각각에 따라 계 ( ) 산한 손해액의 차이를 보상 보험 가입금액 한도 실 손 보상 위 보장내용은 ※ 무배당 한화 아파트가 정종합보험 3700 2101의 내용을 요약 발췌한 것이므로 기타 자세한 사항은 해당 약관 보통 약관 특별 약관의 내용을 따릅니다\\n\\n( , ) .'),\n",
       " Document(metadata={'producer': 'doPDF Ver 7.3 Build 391 (unknown Windows version - Version: 10.0.19042 (x64))', 'creator': '', 'creationdate': '2022-01-11T13:10:59+09:00', 'source': './hanwha_apt_security_product.pdf', 'file_path': './hanwha_apt_security_product.pdf', 'total_pages': 6, 'format': 'PDF 1.5', 'title': '', 'author': '', 'subject': '', 'keywords': '', 'moddate': '', 'trapped': '', 'page': 3}, page_content='확인 필제 전사 - 2022-100016- (2022.01 .10 ~2023.01 .09) - 4 - 나 보험금 지급제한 사항 -2. 실 손 보상 보장은 동일한 위험을 보장하는 다수의 보험계약이 체결되어 있는 경우보험 약관에 따라 비례 보상합니다\\n\\n- , . 다수계약이란? 다수계약에 해당하는 보험종목은 제보험의 상해 질병 간병보험 및 손해보험의 종합 장기 손해 개인연금 퇴직보험 3 · · · · · 을 의미합니다.\\n\\n보험금을 지급하지 않는 사유 등 보험 약관의 내용에 따라 보험금의 지급이 제한될 수 있습니다'),\n",
       " Document(metadata={'producer': 'doPDF Ver 7.3 Build 391 (unknown Windows version - Version: 10.0.19042 (x64))', 'creator': '', 'creationdate': '2022-01-11T13:10:59+09:00', 'source': './hanwha_apt_security_product.pdf', 'file_path': './hanwha_apt_security_product.pdf', 'total_pages': 6, 'format': 'PDF 1.5', 'title': '', 'author': '', 'subject': '', 'keywords': '', 'moddate': '', 'trapped': '', 'page': 3}, page_content='보험금을 지급하지 않는 사유 등 보험 약관의 내용에 따라 보험금의 지급이 제한될 수 있습니다\\n\\n- . 회사의 계약의 청약을 승낙하고 제회 보험료를 받은 때 자동 이체 납입 및 신용카드 납입의 경우 자동 이체신청 및 신용 - 1 ( 카드 매출 승인에 필요한 정보를 제공한 때 다만 계약자의 책임 있는 사유로 보험료 납입 및 승인이 불가능한 경우는 ( , 제외부터 약관이 정한 바에 따라 보장을 합니다 ) .'),\n",
       " Document(metadata={'producer': 'doPDF Ver 7.3 Build 391 (unknown Windows version - Version: 10.0.19042 (x64))', 'creator': '', 'creationdate': '2022-01-11T13:10:59+09:00', 'source': './hanwha_apt_security_product.pdf', 'file_path': './hanwha_apt_security_product.pdf', 'total_pages': 6, 'format': 'PDF 1.5', 'title': '', 'author': '', 'subject': '', 'keywords': '', 'moddate': '', 'trapped': '', 'page': 3}, page_content='다 보험료 산출 기초 및 공시 이율 . 다 보험료의 구성 -1. 보험계약 자가 납입하는 보험료는 보험사고 발생 시 보험금지급을 위한 위험 보험료 만기 시 환급금을 지급하기 위한 적립 , 보험료보험회사의 사업경비를 위한 부가 보험료 등으로 구성됩니다 , .\\n\\n다 적용 이율 -2. 보장부분 적용 이율이란? 보험료를 납입하는 시점과 보험금 지급사이에는 시차가 발생하므로 이 기간 동안 기대되는 수익을 미리 예상하여 일 정한 비율로 보험료를 할인해 주는데 이 할인율을 보장부분 적용 이율이라고 합니다'),\n",
       " Document(metadata={'producer': 'doPDF Ver 7.3 Build 391 (unknown Windows version - Version: 10.0.19042 (x64))', 'creator': '', 'creationdate': '2022-01-11T13:10:59+09:00', 'source': './hanwha_apt_security_product.pdf', 'file_path': './hanwha_apt_security_product.pdf', 'total_pages': 6, 'format': 'PDF 1.5', 'title': '', 'author': '', 'subject': '', 'keywords': '', 'moddate': '', 'trapped': '', 'page': 3}, page_content='다 적용 이율 -2. 보장부분 적용 이율이란? 보험료를 납입하는 시점과 보험금 지급사이에는 시차가 발생하므로 이 기간 동안 기대되는 수익을 미리 예상하여 일 정한 비율로 보험료를 할인해 주는데 이 할인율을 보장부분 적용 이율이라고 합니다\\n\\n일반적으로 보장부분 적용 이율 “ ” . 이 높으면 보험료는 내려가고 낮아 지면 보험료는 올라갑니다 , .'),\n",
       " Document(metadata={'producer': 'doPDF Ver 7.3 Build 391 (unknown Windows version - Version: 10.0.19042 (x64))', 'creator': '', 'creationdate': '2022-01-11T13:10:59+09:00', 'source': './hanwha_apt_security_product.pdf', 'file_path': './hanwha_apt_security_product.pdf', 'total_pages': 6, 'format': 'PDF 1.5', 'title': '', 'author': '', 'subject': '', 'keywords': '', 'moddate': '', 'trapped': '', 'page': 3}, page_content='일반적으로 보장부분 적용 이율 “ ” . 이 높으면 보험료는 내려가고 낮아 지면 보험료는 올라갑니다 , .\\n\\n적립부분 적용 이율보장성 보험 공시 이율 이란 ( ) ? Ⅴ 적립부분 적용 이율 공시 이율이란 보험회사가 장래 보험금 지급을 위하여 계약자의 납입 보험료의 일정부분을 적립해 ( ) 나가는 데이 적립금을 적립하는 이율을 의미합니다 , .\\n\\n최저보증 이율이란? 회사의 운용자산 이익률 및 시중금리가 하락하더라도 회사에서 지급을 보증하는 최저한도의 적용 이율입니다.\\n\\n이 상품의 보장부분 적용 이율은 연 복리 입니다'),\n",
       " Document(metadata={'producer': 'doPDF Ver 7.3 Build 391 (unknown Windows version - Version: 10.0.19042 (x64))', 'creator': '', 'creationdate': '2022-01-11T13:10:59+09:00', 'source': './hanwha_apt_security_product.pdf', 'file_path': './hanwha_apt_security_product.pdf', 'total_pages': 6, 'format': 'PDF 1.5', 'title': '', 'author': '', 'subject': '', 'keywords': '', 'moddate': '', 'trapped': '', 'page': 3}, page_content='최저보증 이율이란? 회사의 운용자산 이익률 및 시중금리가 하락하더라도 회사에서 지급을 보증하는 최저한도의 적용 이율입니다.\\n\\n이 상품의 보장부분 적용 이율은 연 복리 입니다\\n\\n- 2.25% . 이 상 품의 적립부분 적용 이율은 보장성 보험 공시 이율 로 하며 년 월 현재 연 복리 입니다'),\n",
       " Document(metadata={'producer': 'doPDF Ver 7.3 Build 391 (unknown Windows version - Version: 10.0.19042 (x64))', 'creator': '', 'creationdate': '2022-01-11T13:10:59+09:00', 'source': './hanwha_apt_security_product.pdf', 'file_path': './hanwha_apt_security_product.pdf', 'total_pages': 6, 'format': 'PDF 1.5', 'title': '', 'author': '', 'subject': '', 'keywords': '', 'moddate': '', 'trapped': '', 'page': 3}, page_content='이 상품의 보장부분 적용 이율은 연 복리 입니다\\n\\n- 2.25% . 이 상 품의 적립부분 적용 이율은 보장성 보험 공시 이율 로 하며 년 월 현재 연 복리 입니다\\n\\n- , 2022 1 1.4% . Ⅴ 무배당 한화 아파트가 정종합보험 은 객관적인 외부 지표금리와 운용자산 이익률 을 가중 평균하여 산출된 - “ 3700 2101” * ** 공시기준 이율에서 향후 예상수익 등을 고려하여 매월 회사가 결정하는 공시 이율에 연동되는 상품이며 보장성 보험 공 , 시 이율 가 변동될 경우 이 상 품의 적립부분 적용 이율도 변동됩니다.'),\n",
       " Document(metadata={'producer': 'doPDF Ver 7.3 Build 391 (unknown Windows version - Version: 10.0.19042 (x64))', 'creator': '', 'creationdate': '2022-01-11T13:10:59+09:00', 'source': './hanwha_apt_security_product.pdf', 'file_path': './hanwha_apt_security_product.pdf', 'total_pages': 6, 'format': 'PDF 1.5', 'title': '', 'author': '', 'subject': '', 'keywords': '', 'moddate': '', 'trapped': '', 'page': 3}, page_content='Ⅴ 외부 지표금리는 국고 채 회사채통화안정증권 양도성예금 증서 등을 고려하여 산출 * , , , 운용자산 이익률은 직 전 개월 간의 운용자산에 대한 투자 영업수익과 투자 영업비용 등을 고려하여 산출 ** 12 이 상품의 최저보증 이율은 연 복리 입니다\\n\\n- 0.3% . 이에 대한보다 자세한 내용은 인터넷 홈페이지 상품 공시 실에서 무배당 한화 아파트가 정종합보험 의 사업 방 “ 3700 2101” 법서를 참조하시기 바랍니다.'),\n",
       " Document(metadata={'producer': 'doPDF Ver 7.3 Build 391 (unknown Windows version - Version: 10.0.19042 (x64))', 'creator': '', 'creationdate': '2022-01-11T13:10:59+09:00', 'source': './hanwha_apt_security_product.pdf', 'file_path': './hanwha_apt_security_product.pdf', 'total_pages': 6, 'format': 'PDF 1.5', 'title': '', 'author': '', 'subject': '', 'keywords': '', 'moddate': '', 'trapped': '', 'page': 4}, page_content='확인 필제 전사 - 2022-100016- (2022.01 .10 ~2023.01 .09) - 5 - 다 적용 위험률 -3. 적용 위험률이란? 한 개인이 사망하거나 질병에 걸리는 등의 일정한 보험사고가 발생할 수 있는 확률을 예측한 것을 말합니다.\\n\\n일반적으로 적용 위험률이 높으면 보험료가 올라가고 낮 으면 보험료는 내려갑니다.'),\n",
       " Document(metadata={'producer': 'doPDF Ver 7.3 Build 391 (unknown Windows version - Version: 10.0.19042 (x64))', 'creator': '', 'creationdate': '2022-01-11T13:10:59+09:00', 'source': './hanwha_apt_security_product.pdf', 'file_path': './hanwha_apt_security_product.pdf', 'total_pages': 6, 'format': 'PDF 1.5', 'title': '', 'author': '', 'subject': '', 'keywords': '', 'moddate': '', 'trapped': '', 'page': 4}, page_content='적용 위험률 예시 < > 아파트 급 기준 1 구분 적용 위험률 화재 손해 위험률 0.000058 재물 담보 실 손전환 계수주택 ( ) 104.9% 화재 벌금 위험률 28 주택 화재 임시 거주 비 일이상 위험률 (4 ) 0.001902 대가전제품 고장수리비용 사고 당 자기 부담금 만원 연간 만원한도 12 (1 2 , 100 ) 0.024050 다 계약 체결비용 및 계약관리비용 -4. 계약 체결비용 및 계약관리비용이란? 보험회사가 보험계약의 체결유지 및 관리 등에 필요한 경비로 사용하기 위하여 보험료 중 일정비율을 책정한 것을 , 말합니다.'),\n",
       " Document(metadata={'producer': 'doPDF Ver 7.3 Build 391 (unknown Windows version - Version: 10.0.19042 (x64))', 'creator': '', 'creationdate': '2022-01-11T13:10:59+09:00', 'source': './hanwha_apt_security_product.pdf', 'file_path': './hanwha_apt_security_product.pdf', 'total_pages': 6, 'format': 'PDF 1.5', 'title': '', 'author': '', 'subject': '', 'keywords': '', 'moddate': '', 'trapped': '', 'page': 4}, page_content='라보험가격지수 . 보험가격지수란 ? 해당상품의 보험료 총액 보험금 지급을 위한 보험료 및 보험회사의 사업경비 등을 위한 보험료 을 참조순보험료 총액과 ( ) * 평균 사업비 총액 을 합한 금액으로 나눈 비율을 보험가격지수라고 합 니다 ** “ ” . 금융감독원이 정하는 평균 공시 이율 및 참조 순보험 요율을 적용하여 산출한 보험금 지급을 위한 보험료 * 상품군 별로 손해보험상품 전체의 평균 사업비율을 반영하여 계산 역산한 값 ** ( ) 회사별 상품별 비교 공시 손해보험협회 / : ( ※ • www.knia .or .kr 상품 비교 공시 실 참조 ) “ · ” 보험가격지수(%) 기준 남자 여자 아파트 급 년 만기 전기 납 월납 1 , 10 , 94.6 94.8 마 계약자 배당에 관한 사항 . 이 상품은 무배당상품으로서 배당을 하지 않습니다'),\n",
       " Document(metadata={'producer': 'doPDF Ver 7.3 Build 391 (unknown Windows version - Version: 10.0.19042 (x64))', 'creator': '', 'creationdate': '2022-01-11T13:10:59+09:00', 'source': './hanwha_apt_security_product.pdf', 'file_path': './hanwha_apt_security_product.pdf', 'total_pages': 6, 'format': 'PDF 1.5', 'title': '', 'author': '', 'subject': '', 'keywords': '', 'moddate': '', 'trapped': '', 'page': 4}, page_content='그러나 무배당 상품은 배당상품에 비해 보험료가 상대적으로 저 렴하 . 다는 특징이 있습니다.\\n\\n바 해지 환급금에 관한 사항 . 바 해지 환급금 산출기준 -1. 회사는 금융감독원장이 인가 한 산출기준에 따라 계산한 이 보험의 순 보험료식 책임 준비금에서 해지 공제액을 공제한 금 - 액을 해지 환급금으로 지급하여 드립니다.'),\n",
       " Document(metadata={'producer': 'doPDF Ver 7.3 Build 391 (unknown Windows version - Version: 10.0.19042 (x64))', 'creator': '', 'creationdate': '2022-01-11T13:10:59+09:00', 'source': './hanwha_apt_security_product.pdf', 'file_path': './hanwha_apt_security_product.pdf', 'total_pages': 6, 'format': 'PDF 1.5', 'title': '', 'author': '', 'subject': '', 'keywords': '', 'moddate': '', 'trapped': '', 'page': 5}, page_content='확인 필제 전사 - 2022-100016- (2022.01 .10 ~2023.01 .09) - 6 - 바 해지 환급금 예시 -2. 가입기준 아파트 급 · : 1 100\\ue0f1\\ue035 년 만기 전기 납 월납 보험료 원 , 10 , 3,700 보장 내역 화재 손해 실 손 전부 보상건물 억원 가재도구 천만원 건물 복구비용지원 화재주택 천만원 · : ( ) 1 , 2 , ( , ) 2 , 화재 벌금 실 손 천만원 대가 전제품 고장수리비용 실 손 만원 ( ) 2 , 12 ( ) 100 , 임시 거주 비화 재실 손 일이상주택 만원 ( , ,4 , ) 10 , 화재배상책임 대인 인 당 사망 및 후 유장애 억천만원 부상 천만원 대물 사고 당 억원 (1 ) 1 5 / 3 , (1 ) 10 Ⅱ 경과 기간 별 해지 환급금 예시 표 단위 원 ( : , %) □ 구 분 납입 보험료 해지 환급금 최저보증 이율 적용 이율 해지 환급금 환급률(%) 평균 공시 이율 공시 이율 해지 환급금 환급률(%) 해지 환급금 환급률(%) 년 1 44,400 0 0.0 0 0.0 0 0.0 년 2 88,800 0 0.0 0 0.0 0 0.0 년 3 133,200 0 0.0 0 0.0 0 0.0 년 4 177,600 2,500 1.4 2,757 1.5 2,757 1.5 년 5 222,000 8,393 3.7 8,796 3.9 8,796 3.9 만기 444,000 28,749 6.4 30,397 6.8 30,397 6.8 주 적용 이율 해지 환급 금의 적립부분은 적립부분 순 보험료를 공시 이율보장성 보험 공시 이율 년 월 현재 연 ) 1. ( : 2022 1 Ⅴ 복 리 감독규정 제 조 제 호에 따른 평균 공시 이율 년 월 현재 판매 시점의 공시 이율을 한 1.4%), 1-2 13 [2022 1 2.25%, 도로 함 년 월 현재 적용을 기준으로 계산된 금액이며 실제 해지 시에는 공시 이율을 적용합니다'),\n",
       " Document(metadata={'producer': 'doPDF Ver 7.3 Build 391 (unknown Windows version - Version: 10.0.19042 (x64))', 'creator': '', 'creationdate': '2022-01-11T13:10:59+09:00', 'source': './hanwha_apt_security_product.pdf', 'file_path': './hanwha_apt_security_product.pdf', 'total_pages': 6, 'format': 'PDF 1.5', 'title': '', 'author': '', 'subject': '', 'keywords': '', 'moddate': '', 'trapped': '', 'page': 5}, page_content='향 (2022 1 1.4% )] . 후 보장성 보험 공시 이율 의 변동 또는 보험료 납입 일 등에 따라 해지 환급 금은 증감될 수 있습니다.\\n\\nⅤ 최저보증 이율 해지 환급 금의 적립부분은 적립부분 순 보험료를 경과 기간에 따라 연 복리 를 적용하여 산출한 2. 0.3% 금액입니다.\\n\\n상기 예시금액 중 해지 환급 금은 보장부분 해지 환급금과 적립부분 해지 환급금의 합계입니다\\n\\n3. . 적립부분 순 보험료는 적립 보험료에서 적립부분에 해당하는 부가 보험료를 제외한 보험료를 말합니다'),\n",
       " Document(metadata={'producer': 'doPDF Ver 7.3 Build 391 (unknown Windows version - Version: 10.0.19042 (x64))', 'creator': '', 'creationdate': '2022-01-11T13:10:59+09:00', 'source': './hanwha_apt_security_product.pdf', 'file_path': './hanwha_apt_security_product.pdf', 'total_pages': 6, 'format': 'PDF 1.5', 'title': '', 'author': '', 'subject': '', 'keywords': '', 'moddate': '', 'trapped': '', 'page': 5}, page_content='Ⅴ 최저보증 이율 해지 환급 금의 적립부분은 적립부분 순 보험료를 경과 기간에 따라 연 복리 를 적용하여 산출한 2. 0.3% 금액입니다.\\n\\n상기 예시금액 중 해지 환급 금은 보장부분 해지 환급금과 적립부분 해지 환급금의 합계입니다\\n\\n3. . 적립부분 순 보험료는 적립 보험료에서 적립부분에 해당하는 부가 보험료를 제외한 보험료를 말합니다\\n\\n4. . 가입 후 년 이내에 해 지시 해지 환급금이 기 납입 보험료보다 큰 경우 그 차액에 대하여 이자 소득세가 부과될 수 5. 10 있습니다.'),\n",
       " Document(metadata={'producer': 'doPDF Ver 7.3 Build 391 (unknown Windows version - Version: 10.0.19042 (x64))', 'creator': '', 'creationdate': '2022-01-11T13:10:59+09:00', 'source': './hanwha_apt_security_product.pdf', 'file_path': './hanwha_apt_security_product.pdf', 'total_pages': 6, 'format': 'PDF 1.5', 'title': '', 'author': '', 'subject': '', 'keywords': '', 'moddate': '', 'trapped': '', 'page': 5}, page_content='상기 예시금액 중 해지 환급 금은 보장부분 해지 환급금과 적립부분 해지 환급금의 합계입니다\\n\\n3. . 적립부분 순 보험료는 적립 보험료에서 적립부분에 해당하는 부가 보험료를 제외한 보험료를 말합니다\\n\\n4. . 가입 후 년 이내에 해 지시 해지 환급금이 기 납입 보험료보다 큰 경우 그 차액에 대하여 이자 소득세가 부과될 수 5. 10 있습니다.\\n\\n중도 인 출시 인출금액 및 인출금액에 적립되는 이자만큼 만기 해지 환급금에서 차감하여 지급하므로 만기 해지 환급 6. ( ) ( ) 금이 현저하게 감소할 수 있습니다.'),\n",
       " Document(metadata={'producer': 'doPDF Ver 7.3 Build 391 (unknown Windows version - Version: 10.0.19042 (x64))', 'creator': '', 'creationdate': '2022-01-11T13:10:59+09:00', 'source': './hanwha_apt_security_product.pdf', 'file_path': './hanwha_apt_security_product.pdf', 'total_pages': 6, 'format': 'PDF 1.5', 'title': '', 'author': '', 'subject': '', 'keywords': '', 'moddate': '', 'trapped': '', 'page': 5}, page_content='4. . 가입 후 년 이내에 해 지시 해지 환급금이 기 납입 보험료보다 큰 경우 그 차액에 대하여 이자 소득세가 부과될 수 5. 10 있습니다.\\n\\n중도 인 출시 인출금액 및 인출금액에 적립되는 이자만큼 만기 해지 환급금에서 차감하여 지급하므로 만기 해지 환급 6. ( ) ( ) 금이 현저하게 감소할 수 있습니다.\\n\\n평균 공시 이율은 감독원장이 정하는 바에 따라 산정한 전체 보험회사 공시 이율의 평균으로 전년도 월말 기준 직 7. , 9 전 개월 간 보험회사 평균 공시 이율을 말합니다'),\n",
       " Document(metadata={'producer': 'doPDF Ver 7.3 Build 391 (unknown Windows version - Version: 10.0.19042 (x64))', 'creator': '', 'creationdate': '2022-01-11T13:10:59+09:00', 'source': './hanwha_apt_security_product.pdf', 'file_path': './hanwha_apt_security_product.pdf', 'total_pages': 6, 'format': 'PDF 1.5', 'title': '', 'author': '', 'subject': '', 'keywords': '', 'moddate': '', 'trapped': '', 'page': 5}, page_content='12 . 바 해지 환급금이 적은 이유 -3. 손해보험상품은 은행의 저축과는 달리 위험보장과 저축기능을 겸한 제도로서 보험계약 자가 납입한 보험료 중 일부는 불 의의 사고를 당한 다른 보험 계약자에게 지급되는 보험금의 재원으로 또 다른 일부는 보험회사 운영에 필요한 사업경비로 , 사용되므로 중도 해지 시 지급되는 해지 환급금은 납입한 보험료보다 적거나 없을 수도 있습니다.'),\n",
       " Document(metadata={'producer': 'doPDF Ver 7.3 Build 391 (unknown Windows version - Version: 10.0.19042 (x64))', 'creator': '', 'creationdate': '2022-01-11T13:10:59+09:00', 'source': './hanwha_apt_security_product.pdf', 'file_path': './hanwha_apt_security_product.pdf', 'total_pages': 6, 'format': 'PDF 1.5', 'title': '', 'author': '', 'subject': '', 'keywords': '', 'moddate': '', 'trapped': '', 'page': 5}, page_content='이 상품 요약서는 무배당 한화 아파트가 정종합보험 의 주요 내용을 요약 발췌한 것이므로 기타 자세한 3700 2101 사항은 해당 약관 보통 약관 특별 약관의 내용을 따릅니다\\n\\n( , ) .')]"
      ]
     },
     "execution_count": 12,
     "metadata": {},
     "output_type": "execute_result"
    }
   ],
   "source": [
    "chunks"
   ]
  },
  {
   "cell_type": "code",
   "execution_count": 13,
   "metadata": {},
   "outputs": [],
   "source": [
    "# pip install chromadb\n",
    "from langchain.vectorstores import Chroma"
   ]
  },
  {
   "cell_type": "code",
   "execution_count": 15,
   "metadata": {},
   "outputs": [],
   "source": [
    "embeddings = OpenAIEmbeddings( #← OpenAIEmbeddings를 초기화\n",
    "    model=\"text-embedding-ada-002\"\n",
    ")\n"
   ]
  },
  {
   "cell_type": "code",
   "execution_count": 16,
   "metadata": {},
   "outputs": [
    {
     "name": "stderr",
     "output_type": "stream",
     "text": [
      "/tmp/ipykernel_11200/1385953832.py:1: LangChainDeprecationWarning: The class `Chroma` was deprecated in LangChain 0.2.9 and will be removed in 1.0. An updated version of the class exists in the :class:`~langchain-chroma package and should be used instead. To use it run `pip install -U :class:`~langchain-chroma` and import as `from :class:`~langchain_chroma import Chroma``.\n",
      "  db = Chroma(\n"
     ]
    }
   ],
   "source": [
    "db = Chroma(\n",
    "    persist_directory=\"./secure_data\",\n",
    "    embedding_function=embeddings\n",
    ")"
   ]
  },
  {
   "cell_type": "code",
   "execution_count": 18,
   "metadata": {},
   "outputs": [
    {
     "data": {
      "text/plain": [
       "['8dba2c48-acc9-4f08-a340-d1e29a0234d7',\n",
       " '3f3c3b13-58e0-46c6-b29a-45a098d01c72',\n",
       " 'bc7031a1-fee1-4de6-bbe8-c587e0d6bffd',\n",
       " 'd657f36b-39fd-4229-88ec-20223170a16d',\n",
       " '37c668e1-dd4f-4350-a902-6eb168d0b335',\n",
       " '08b21090-5243-48b0-a9ac-8e0f12627361',\n",
       " '132413a9-9391-48c2-af82-ad7efc189886',\n",
       " '266b3ecf-b8b9-4a17-8b68-3ed0b91b8413',\n",
       " '5ec7f91d-7144-4250-9b69-2b370cb243e6',\n",
       " '2ff5b91f-ba61-4c67-8b4d-5271d67750ae',\n",
       " '03aac766-c717-48b4-9875-7f575f11ef13',\n",
       " '2b9d238c-fd7a-415f-8024-6819519a0a8e',\n",
       " 'd9488879-ae82-4403-ba3c-170d762b2317',\n",
       " '0331cad2-f219-414c-b1c5-e39f0734ac0d',\n",
       " 'e581fba1-3360-4d76-9e67-dc5827c54249',\n",
       " '6b303086-0e05-40c0-a685-d0ebd918e432',\n",
       " '6d6fc302-4eaf-4f2a-9ad5-8a9ec7921060',\n",
       " 'cc76007b-a36c-444f-a467-b12573a30c41',\n",
       " '10d6e954-dfbb-4486-9432-367040bd7634',\n",
       " '17107082-4215-410c-8a4b-5ed131f2881e',\n",
       " '4e02f9d8-ef22-4ee9-bd8b-0a5016710597',\n",
       " '9a9bb8f1-e39e-4e08-8e6c-55d90d323733',\n",
       " '1cfc3fab-034f-4c5b-ae14-b0c025559d7a',\n",
       " 'e37be537-1c08-41ff-ac05-0018f6984a97',\n",
       " '55373e99-eb8d-4a3a-9c0f-61e9049c6038',\n",
       " '05214cd2-b4f6-438e-a9a9-f9cf32b449d5',\n",
       " '726c93da-b6a1-4b94-a17f-c7aad5e05525',\n",
       " '98e40c70-2986-42ca-b986-e6490ce3117e',\n",
       " 'ee537f2f-9236-4cd4-bf90-75d624cb207a',\n",
       " '97a064a3-c656-447a-8c55-d494b82b0cd9',\n",
       " '96826aa5-ee08-46ef-b7bc-7cd313012cf2',\n",
       " 'abb20900-6b44-4f6a-9f60-2f6600d945dd',\n",
       " 'eb399101-8077-4aed-8361-fcb5829a4127',\n",
       " '81aeb102-15d0-4e37-895a-6009eccf8015',\n",
       " 'ee5b69b8-5183-4f03-916c-01e6795bfa9f',\n",
       " 'a286f6e1-18f2-4999-b1e6-6898d30b86c3',\n",
       " '0e7d5ccd-edff-4e32-b343-60bbcfa954e6',\n",
       " 'ed5535b1-7f7e-44eb-8e9f-bf536c9898cd']"
      ]
     },
     "execution_count": 18,
     "metadata": {},
     "output_type": "execute_result"
    }
   ],
   "source": [
    "#pip install tiktoken\n",
    "db.add_documents(chunks)"
   ]
  },
  {
   "cell_type": "code",
   "execution_count": null,
   "metadata": {},
   "outputs": [],
   "source": []
  },
  {
   "cell_type": "code",
   "execution_count": null,
   "metadata": {},
   "outputs": [],
   "source": []
  },
  {
   "cell_type": "code",
   "execution_count": 19,
   "metadata": {},
   "outputs": [],
   "source": [
    "result = db.similarity_search(\"해지환급금은?\")"
   ]
  },
  {
   "cell_type": "code",
   "execution_count": 20,
   "metadata": {},
   "outputs": [
    {
     "name": "stdout",
     "output_type": "stream",
     "text": [
      "4\n",
      "상기 예시금액 중 해지 환급 금은 보장부분 해지 환급금과 적립부분 해지 환급금의 합계입니다\n",
      "\n",
      "3. . 적립부분 순 보험료는 적립 보험료에서 적립부분에 해당하는 부가 보험료를 제외한 보험료를 말합니다\n",
      "\n",
      "4. . 가입 후 년 이내에 해 지시 해지 환급금이 기 납입 보험료보다 큰 경우 그 차액에 대하여 이자 소득세가 부과될 수 5. 10 있습니다.\n",
      "\n",
      "중도 인 출시 인출금액 및 인출금액에 적립되는 이자만큼 만기 해지 환급금에서 차감하여 지급하므로 만기 해지 환급 6. ( ) ( ) 금이 현저하게 감소할 수 있습니다.\n"
     ]
    }
   ],
   "source": [
    "print(len(result))\n",
    "print(result[0].page_content)"
   ]
  },
  {
   "cell_type": "code",
   "execution_count": 21,
   "metadata": {},
   "outputs": [],
   "source": [
    "documents_string = \" \".join([x.page_content for x in result])"
   ]
  },
  {
   "cell_type": "code",
   "execution_count": null,
   "metadata": {},
   "outputs": [],
   "source": []
  },
  {
   "cell_type": "code",
   "execution_count": null,
   "metadata": {},
   "outputs": [],
   "source": []
  },
  {
   "cell_type": "code",
   "execution_count": 22,
   "metadata": {},
   "outputs": [],
   "source": [
    "template=\"\"\"문장을 바탕으로 질문에 답하세요.\n",
    "\n",
    "문장: \n",
    "{document}\n",
    "\n",
    "질문: {query}\n",
    "\"\"\""
   ]
  },
  {
   "cell_type": "code",
   "execution_count": 24,
   "metadata": {},
   "outputs": [],
   "source": [
    "from langchain.prompts import PromptTemplate\n",
    "# from langchain.chat_models import ChatOpenAI\n",
    "from langchain_openai import ChatOpenAI\n",
    "from langchain.schema import HumanMessage, AIMessage"
   ]
  },
  {
   "cell_type": "code",
   "execution_count": 25,
   "metadata": {},
   "outputs": [],
   "source": [
    "prompt = PromptTemplate(\n",
    "    template=template,\n",
    "    input_variables=['document', 'query']\n",
    ")\n",
    "\n",
    "chat = ChatOpenAI(\n",
    "    model = \"gpt-4o-mini-2024-07-18\"\n",
    ")"
   ]
  },
  {
   "cell_type": "code",
   "execution_count": 26,
   "metadata": {},
   "outputs": [
    {
     "name": "stderr",
     "output_type": "stream",
     "text": [
      "/tmp/ipykernel_11200/1938336525.py:4: LangChainDeprecationWarning: The method `BaseChatModel.__call__` was deprecated in langchain-core 0.1.7 and will be removed in 1.0. Use :meth:`~invoke` instead.\n",
      "  chat([\n"
     ]
    },
    {
     "data": {
      "text/plain": [
       "AIMessage(content='해지환급금 합계는 보장부분 해지 환급금과 적립부분 해지 환급금의 합계입니다.', additional_kwargs={'refusal': None}, response_metadata={'token_usage': {'completion_tokens': 31, 'prompt_tokens': 714, 'total_tokens': 745, 'completion_tokens_details': {'accepted_prediction_tokens': 0, 'audio_tokens': 0, 'reasoning_tokens': 0, 'rejected_prediction_tokens': 0}, 'prompt_tokens_details': {'audio_tokens': 0, 'cached_tokens': 0}}, 'model_name': 'gpt-4o-mini-2024-07-18', 'system_fingerprint': 'fp_72ed7ab54c', 'finish_reason': 'stop', 'logprobs': None}, id='run-9bdf092e-90f9-4f0c-a56e-e54337646dca-0', usage_metadata={'input_tokens': 714, 'output_tokens': 31, 'total_tokens': 745, 'input_token_details': {'audio': 0, 'cache_read': 0}, 'output_token_details': {'audio': 0, 'reasoning': 0}})"
      ]
     },
     "execution_count": 26,
     "metadata": {},
     "output_type": "execute_result"
    }
   ],
   "source": [
    "# RAG \n",
    "# documents_string: query 와 유사도가 높은 문장을 하나의 문장으로 만든것 \n",
    "\n",
    "chat([\n",
    "    HumanMessage(content=prompt.format(document=documents_string, query=\"해지환급금 합계는?\"))\n",
    "])"
   ]
  },
  {
   "cell_type": "code",
   "execution_count": 27,
   "metadata": {},
   "outputs": [
    {
     "data": {
      "text/plain": [
       "AIMessage(content='문장에서 해지환급금 이율에 대한 구체적인 정보는 명시되어 있지 않습니다. 그러나 상품의 최저보증 이율이 연 복리 0.3%라고 언급되어 있으므로, 해지환급금 이율은 이와 연관이 있을 가능성이 있습니다. 보다 정확한 정보를 원하시면 해당 상품의 공식 홈페이지나 관련 자료를 참조하시기 바랍니다.', additional_kwargs={'refusal': None}, response_metadata={'token_usage': {'completion_tokens': 89, 'prompt_tokens': 640, 'total_tokens': 729, 'completion_tokens_details': {'accepted_prediction_tokens': 0, 'audio_tokens': 0, 'reasoning_tokens': 0, 'rejected_prediction_tokens': 0}, 'prompt_tokens_details': {'audio_tokens': 0, 'cached_tokens': 0}}, 'model_name': 'gpt-4o-mini-2024-07-18', 'system_fingerprint': 'fp_72ed7ab54c', 'finish_reason': 'stop', 'logprobs': None}, id='run-3247461e-8f42-4219-899a-2595c41dfd60-0', usage_metadata={'input_tokens': 640, 'output_tokens': 89, 'total_tokens': 729, 'input_token_details': {'audio': 0, 'cache_read': 0}, 'output_token_details': {'audio': 0, 'reasoning': 0}})"
      ]
     },
     "execution_count": 27,
     "metadata": {},
     "output_type": "execute_result"
    }
   ],
   "source": [
    "result = db.similarity_search(\"해지환급금 이율\")\n",
    "documents_string = \" \".join([x.page_content for x in result])\n",
    "chat([\n",
    "    HumanMessage(content=prompt.format(document=documents_string, query=\"해지환급금 이율은?\"))\n",
    "])"
   ]
  },
  {
   "cell_type": "code",
   "execution_count": null,
   "metadata": {},
   "outputs": [],
   "source": []
  }
 ],
 "metadata": {
  "kernelspec": {
   "display_name": "ve-basic",
   "language": "python",
   "name": "ve-basic"
  },
  "language_info": {
   "codemirror_mode": {
    "name": "ipython",
    "version": 3
   },
   "file_extension": ".py",
   "mimetype": "text/x-python",
   "name": "python",
   "nbconvert_exporter": "python",
   "pygments_lexer": "ipython3",
   "version": "3.12.7"
  }
 },
 "nbformat": 4,
 "nbformat_minor": 2
}
